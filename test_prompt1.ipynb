{
 "cells": [
  {
   "cell_type": "markdown",
   "id": "96193885-02ca-4ff3-85db-c15ce5243896",
   "metadata": {},
   "source": [
    "### Test a prompt"
   ]
  },
  {
   "cell_type": "code",
   "execution_count": null,
   "id": "ec2bfff8-2de8-4d65-9305-cdd0c703a88d",
   "metadata": {},
   "outputs": [],
   "source": [
    "from my_prompts import prompt_4_answer"
   ]
  },
  {
   "cell_type": "code",
   "execution_count": 6,
   "id": "1140aaee-afe7-440b-ac60-0a727556334b",
   "metadata": {},
   "outputs": [
    {
     "data": {
      "text/plain": [
       "ChatPromptValue(messages=[SystemMessage(content=\"You're an AI assistant. Given a user question and some documents, answer the user question. \\n            If none of the articles answer the question, just say you don't know.\\n            \\n            Here are the documents:\\n            doc1\"), HumanMessage(content='Does it work?')])"
      ]
     },
     "execution_count": 6,
     "metadata": {},
     "output_type": "execute_result"
    }
   ],
   "source": [
    "prompt_4_answer.invoke({\"context\": \"doc1\", \"question\": \"Does it work?\"})"
   ]
  },
  {
   "cell_type": "code",
   "execution_count": null,
   "id": "e371b744-eeb4-42df-b9b1-ab793b1a5783",
   "metadata": {},
   "outputs": [],
   "source": []
  }
 ],
 "metadata": {
  "kernelspec": {
   "display_name": "Python 3 (ipykernel)",
   "language": "python",
   "name": "python3"
  },
  "language_info": {
   "codemirror_mode": {
    "name": "ipython",
    "version": 3
   },
   "file_extension": ".py",
   "mimetype": "text/x-python",
   "name": "python",
   "nbconvert_exporter": "python",
   "pygments_lexer": "ipython3",
   "version": "3.11.0"
  }
 },
 "nbformat": 4,
 "nbformat_minor": 5
}
