{
 "cells": [
  {
   "cell_type": "markdown",
   "id": "a97a227f-423f-49b3-a837-3d4541c40872",
   "metadata": {},
   "source": [
    "### Oracle AI Vector Search: Loading the Vector Store\n",
    "\n",
    "With this Notebook you can load your Knowledge Base in Oracle DB and create and  store the Embeddings Vectors.\n",
    "\n",
    "The KB is made by a set of pdf files, stored in a directory. This NB:\n",
    "* Reads all the pdf files and splits in chunks\n",
    "* Compute the embeddings for all chunks\n",
    "* Store chunks and embeddings in **ORACLE_KNOWLEDGE** table\n",
    "\n",
    "* This demo is based on the **LangChain** integration\n",
    "* **OCI GenAI multi-lingual (Cohere) embeddings**\n",
    "* Data will be stored in a single table (ORACLE_KNOWLEDGE)\n",
    "\n",
    "Afterward, you can do a similarity search and run an assistant, based on OCI GenAI, on top."
   ]
  },
  {
   "cell_type": "code",
   "execution_count": 1,
   "id": "f64d9fd0-36d2-43bf-b59c-b25001673ebc",
   "metadata": {
    "tags": []
   },
   "outputs": [],
   "source": [
    "import logging\n",
    "from glob import glob\n",
    "import pandas as pd\n",
    "\n",
    "# to load and split txt documents\n",
    "from langchain_community.document_loaders import DirectoryLoader\n",
    "from langchain_community.document_loaders import TextLoader\n",
    "from langchain.text_splitter import RecursiveCharacterTextSplitter\n",
    "\n",
    "# to compute embeddings vectors\n",
    "from langchain_community.embeddings import OCIGenAIEmbeddings\n",
    "\n",
    "# the class to integrate OCI AI Vector Search with LangChain\n",
    "from oracle_vector_db_lc import OracleVectorStore\n",
    "from chunk_index_utils import load_books_and_split\n",
    "\n",
    "from config import OCI_EMBED_MODEL, ENDPOINT\n",
    "from config_private import COMPARTMENT_ID"
   ]
  },
  {
   "cell_type": "code",
   "execution_count": 2,
   "id": "0aaad15d-aaf7-4b24-8068-664882886a81",
   "metadata": {},
   "outputs": [
    {
     "name": "stderr",
     "output_type": "stream",
     "text": [
      "2024-05-03 15:35:37,141 - INFO - Successfully connected !!!\n"
     ]
    }
   ],
   "source": [
    "# Test connection to the DB\n",
    "OracleVectorStore.test_connection()"
   ]
  },
  {
   "cell_type": "markdown",
   "id": "924d39f9-d1c4-4c0f-8d1a-a9c7bc9fcbf8",
   "metadata": {},
   "source": [
    "#### Setup"
   ]
  },
  {
   "cell_type": "code",
   "execution_count": 3,
   "id": "c8da1d7c-25b0-4e7d-9d5f-ec6b1529cd0d",
   "metadata": {
    "tags": []
   },
   "outputs": [],
   "source": [
    "#\n",
    "# Some configurations\n",
    "#\n",
    "\n",
    "# directory where our Knowledge base is contained in txt files\n",
    "BOOKS_DIR = \"./books\"\n",
    "\n",
    "# Configure logging\n",
    "logging.basicConfig(\n",
    "    level=logging.INFO, format=\"%(asctime)s - %(levelname)s - %(message)s\"\n",
    ")\n",
    "\n",
    "embed_model = OCIGenAIEmbeddings(\n",
    "    # this code is done to be run in OCI DS.\n",
    "    # If outside replace with API_KEY and provide API_KEYS\n",
    "    # auth_type = \"RESOURCE_PRINCIPAL\"\n",
    "    auth_type=\"API_KEY\",\n",
    "    model_id=OCI_EMBED_MODEL,\n",
    "    service_endpoint=ENDPOINT,\n",
    "    compartment_id=COMPARTMENT_ID,\n",
    ")"
   ]
  },
  {
   "cell_type": "code",
   "execution_count": 4,
   "id": "4ef2fd13-0ac8-4a9c-acbf-4a2174bca928",
   "metadata": {
    "tags": []
   },
   "outputs": [
    {
     "name": "stdout",
     "output_type": "stream",
     "text": [
      "There are 8 files to be loaded...\n",
      "./books/CurrentEssentialsofMedicine.pdf\n",
      "./books/Il conto corrente in parole semplici.pdf\n",
      "./books/La storia del Gruppo-iccrea.pdf\n",
      "./books/La_Centrale_dei_Rischi_in_parole_semplici.pdf\n",
      "./books/covid19_treatment_guidelines.pdf\n",
      "./books/database-concepts.pdf\n",
      "./books/high-availability-23c.pdf\n",
      "./books/the-side-effects-of-metformin-a-review.pdf\n"
     ]
    }
   ],
   "source": [
    "# this is the file list containing the Knowledge base\n",
    "file_list = sorted(glob(BOOKS_DIR + \"/\" + \"*.pdf\"))\n",
    "\n",
    "print(f\"There are {len(file_list)} files to be loaded...\")\n",
    "for f_name in file_list:\n",
    "    print(f_name)"
   ]
  },
  {
   "cell_type": "markdown",
   "id": "3801e226-e346-4836-b35a-94e15d28e695",
   "metadata": {},
   "source": [
    "#### Load all files and then splits in chunks"
   ]
  },
  {
   "cell_type": "code",
   "execution_count": 5,
   "id": "fed75fb1-b97d-459f-87dd-6b5e2bb34f36",
   "metadata": {},
   "outputs": [
    {
     "name": "stderr",
     "output_type": "stream",
     "text": [
      "2024-05-03 15:35:51,328 - Loading documents from ./books...\n",
      "2024-05-03 15:35:51,332 - Loading books: ['./books/La_Centrale_dei_Rischi_in_parole_semplici.pdf', './books/CurrentEssentialsofMedicine.pdf', './books/database-concepts.pdf', './books/covid19_treatment_guidelines.pdf', './books/Il conto corrente in parole semplici.pdf', './books/La storia del Gruppo-iccrea.pdf', './books/the-side-effects-of-metformin-a-review.pdf', './books/high-availability-23c.pdf']\n"
     ]
    },
    {
     "data": {
      "application/vnd.jupyter.widget-view+json": {
       "model_id": "5ce6d0a668ce4a859664bb80f8c17480",
       "version_major": 2,
       "version_minor": 0
      },
      "text/plain": [
       "  0%|          | 0/8 [00:00<?, ?it/s]"
      ]
     },
     "metadata": {},
     "output_type": "display_data"
    },
    {
     "name": "stderr",
     "output_type": "stream",
     "text": [
      "2024-05-03 15:36:07,327 - WARNING - Ignoring wrong pointing object 14 0 (offset 0)\n",
      "2024-05-03 15:36:07,327 - WARNING - Ignoring wrong pointing object 26 0 (offset 0)\n",
      "2024-05-03 15:36:07,328 - WARNING - Ignoring wrong pointing object 33 0 (offset 0)\n",
      "2024-05-03 15:36:11,026 - Loaded 4832 chunks...\n"
     ]
    }
   ],
   "source": [
    "docs = load_books_and_split(BOOKS_DIR)"
   ]
  },
  {
   "cell_type": "markdown",
   "id": "518a854c-ba3b-4db3-99d0-ce2e4d5ff8db",
   "metadata": {},
   "source": [
    "#### Create Embed Model, Vector Store and load vectors + embeddings in the DB"
   ]
  },
  {
   "cell_type": "code",
   "execution_count": 6,
   "id": "b1eb43ac-1975-4091-a691-f42ce8163ee9",
   "metadata": {
    "tags": []
   },
   "outputs": [
    {
     "name": "stderr",
     "output_type": "stream",
     "text": [
      "2024-05-03 15:36:18,650 - INFO - ORACLE_KNOWLEDGE dropped!!!\n"
     ]
    }
   ],
   "source": [
    "# clean the existing table\n",
    "# be careful: do you really want to delete all the existing records?\n",
    "OracleVectorStore.drop_collection(collection_name=\"ORACLE_KNOWLEDGE\")"
   ]
  },
  {
   "cell_type": "code",
   "execution_count": 7,
   "id": "39f129df-1cb1-4b33-963a-4c4a7d73528f",
   "metadata": {},
   "outputs": [
    {
     "name": "stderr",
     "output_type": "stream",
     "text": [
      "2024-05-03 15:36:20,026 - INFO - ORACLE_KNOWLEDGE created!!!\n"
     ]
    }
   ],
   "source": [
    "OracleVectorStore.create_collection(collection_name=\"ORACLE_KNOWLEDGE\")"
   ]
  },
  {
   "cell_type": "code",
   "execution_count": 8,
   "id": "f6feaa50-d4e8-4f65-9b10-74fc3cc467fd",
   "metadata": {
    "tags": []
   },
   "outputs": [
    {
     "name": "stderr",
     "output_type": "stream",
     "text": [
      "2024-05-03 15:36:22,063 - INFO - Compute embeddings...\n"
     ]
    },
    {
     "data": {
      "application/vnd.jupyter.widget-view+json": {
       "model_id": "8ee2c6a0cbb249a389b71a39c7588ced",
       "version_major": 2,
       "version_minor": 0
      },
      "text/plain": [
       "  0%|          | 0/54 [00:00<?, ?it/s]"
      ]
     },
     "metadata": {},
     "output_type": "display_data"
    },
    {
     "name": "stderr",
     "output_type": "stream",
     "text": [
      "2024-05-03 15:39:13,972 - INFO - Saving texts, embeddings to DB...\n"
     ]
    },
    {
     "data": {
      "application/vnd.jupyter.widget-view+json": {
       "model_id": "d58bd99e1b6f4c338bdaec4a035c332e",
       "version_major": 2,
       "version_minor": 0
      },
      "text/plain": [
       "  0%|          | 0/4832 [00:00<?, ?it/s]"
      ]
     },
     "metadata": {},
     "output_type": "display_data"
    },
    {
     "name": "stderr",
     "output_type": "stream",
     "text": [
      "2024-05-03 15:41:44,943 - INFO - Tot. errors in save_embeddings: 0\n"
     ]
    }
   ],
   "source": [
    "# create embedding model and then the vector store\n",
    "\n",
    "# Here compute embeddings and load texts + embeddings in DB\n",
    "# can take minutes (for embeddings)\n",
    "v_store = OracleVectorStore.from_documents(\n",
    "    docs, embed_model, collection_name=\"ORACLE_KNOWLEDGE\", verbose=True\n",
    ")"
   ]
  },
  {
   "cell_type": "markdown",
   "id": "7333cb53-74db-4928-9d40-9bf046d6a7f6",
   "metadata": {},
   "source": [
    "#### Do a query for test"
   ]
  },
  {
   "cell_type": "code",
   "execution_count": 9,
   "id": "9b3981c8-ec24-45bb-bfaf-85b14ba7b0d1",
   "metadata": {},
   "outputs": [],
   "source": [
    "v_store = OracleVectorStore(\n",
    "    embedding=embed_model, collection_name=\"ORACLE_KNOWLEDGE\", verbose=True\n",
    ")"
   ]
  },
  {
   "cell_type": "code",
   "execution_count": 10,
   "id": "c9553485-4cfa-4da3-89b2-f8431206b3f6",
   "metadata": {
    "tags": []
   },
   "outputs": [],
   "source": [
    "# k is the number of docs we want to retrieve\n",
    "retriever = v_store.as_retriever(search_kwargs={\"k\": 6})"
   ]
  },
  {
   "cell_type": "code",
   "execution_count": 11,
   "id": "d62e60a8-114f-4377-bcca-aeaa93c2b2bb",
   "metadata": {
    "tags": []
   },
   "outputs": [
    {
     "name": "stderr",
     "output_type": "stream",
     "text": [
      "2024-05-03 15:42:28,812 - INFO - top_k: 6\n",
      "2024-05-03 15:42:28,812 - INFO - \n",
      "2024-05-03 15:42:29,699 - INFO - select: select C.id, C.CHUNK, C.REF, C.PAG,\n",
      "                            VECTOR_DISTANCE(C.VEC, :1, COSINE) as d \n",
      "                            from ORACLE_KNOWLEDGE C\n",
      "                            order by d\n",
      "                            FETCH FIRST 6 ROWS ONLY\n",
      "2024-05-03 15:42:30,025 - INFO - Query duration: 0.5 sec.\n"
     ]
    }
   ],
   "source": [
    "question = \"Elenca i passi salienti della storia del gruppo Iccrea\"\n",
    "\n",
    "result_docs = retriever.invoke(question)"
   ]
  },
  {
   "cell_type": "code",
   "execution_count": 12,
   "id": "c960e460-3182-4586-9cec-2e83870ffbc0",
   "metadata": {
    "tags": []
   },
   "outputs": [
    {
     "name": "stdout",
     "output_type": "stream",
     "text": [
      "La storia del Gruppo Un Gruppo che crea il futuro con la forza del passato\n",
      "{'source': './books/La storia del Gruppo-iccrea.pdf', 'page': 0}\n",
      "----------------------------\n",
      "\n",
      "1963 Le origini di Iccrea Banca Iccrea Banca nasce il 30 novembre del 1963, quando i rappresentanti di 190 Casse Rurali si riuniscono a Roma per stipulare l’atto costitutivo dell’Istituto di Credito delle Casse Rurali e Artigiane (CRA). Ispirata come le prime Casse Rurali dell’Ottocento al pensiero cristiano sociale espresso dall’enciclica Rerum Novarum di Leone XIII, Iccrea Banca viene costituita con lo scopo di far crescere l’attività delle CRA, agevolandone e coordinandone l’azione attraverso lo svolgimento di funzioni creditizie, l’intermediazione bancaria e l’assistenza finanziaria. Iccrea Banca rappresenta la prima forma organizzativa di auto-gestione, lo strumento per rendere le Casse Rurali indipendenti dalle altre banche. Guido Carli, Governatore della Banca d’Italia negli anni ’60, ne commenta così la funzione: «l’Iccrea (…) fu concepita come l’Istituto che doveva concorrere a fornire alle Casse i servizi che essi non potevano produrre autonomamente, e questo processo ha avuto successo tanto che oggi la Cassa di un piccolo centro della Valcamonica che conosco bene offre servizi paragonabili alla grande banca di una metropoli». Iccrea\n",
      "{'source': './books/La storia del Gruppo-iccrea.pdf', 'page': 1}\n",
      "----------------------------\n",
      "\n",
      "Iccrea Holding (il cui capitale è partecipato dalle Banche di Credito Cooperativo) è al vertice del Gruppo Bancario Iccrea, il gruppo di aziende che fornisce alle BCC un sistema di offerta competitivo predisposto per i loro oltre 6 milioni di clienti e che riunisce le aziende che offrono prodotti e servizi per l’operatività delle Banche di Credito Cooperativo (segmento Institutional) e per la loro clientela di elezione: piccole e medie imprese (segmento Corporate) e famiglie (segmento Retail).   \n",
      "2016 Fusione inversa tra Iccrea Banca e Iccrea Holding Dopo il via libera delle rispettive Assemblee, il 16 settembre 2016 Iccrea Holding, la Capogruppo del Gruppo Bancario Iccrea, e Iccrea Banca, l’Istituto Centrale del Credito Cooperativo, formalizzano la fusione inversa tra le due aziende. Iccrea Banca incorpora Iccrea Holding. La fusione, operativa dal 1° ottobre, pone Iccrea Banca al vertice del Gruppo Bancario Iccrea e consente al Gruppo di dotarsi di una capogruppo munita di licenza bancaria, allineandosi ai requisiti richiesti dalla Banca Centrale Europea.\n",
      "{'source': './books/La storia del Gruppo-iccrea.pdf', 'page': 3}\n",
      "----------------------------\n",
      "\n",
      "20\n",
      "Le guide della Banca d’ItaliaNote\n",
      "{'source': './books/La_Centrale_dei_Rischi_in_parole_semplici.pdf', 'page': 21}\n",
      "----------------------------\n",
      "\n",
      "2019 Nasce il  Gruppo Bancario Cooperativo Iccrea Il 4 marzo 2019 nasce il Gruppo Bancario Cooperativo Iccrea, a seguito della Legge n. 49 del 2016 (e successive modifiche) che riforma il Sistema del Credito Cooperativo. Il Gruppo si costituisce con l’adesione di 142 Banche di Credito Cooperativo che sottoscrivono, insieme alla Capogruppo Iccrea Banca, il contratto di coesione. Il Gruppo Bancario Cooperativo integra una figura giuridica inedita nel panorama bancario. Il modello di gruppo che il legislatore della riforma disegna, infatti, trova il suo fondamento in un contratto - il contratto di coesione - l’adesione al quale è\n",
      "{'source': './books/La storia del Gruppo-iccrea.pdf', 'page': 3}\n",
      "----------------------------\n",
      "\n",
      "pagina personalizzabile dalla Banca\n",
      "{'source': './books/Il conto corrente in parole semplici.pdf', 'page': 22}\n",
      "----------------------------\n",
      "\n"
     ]
    }
   ],
   "source": [
    "for doc in result_docs:\n",
    "    print(doc.page_content)\n",
    "    print(doc.metadata)\n",
    "    print(\"----------------------------\")\n",
    "    print(\"\")"
   ]
  },
  {
   "cell_type": "code",
   "execution_count": null,
   "id": "1f105a80-3cc3-4c2c-8676-163f31a98252",
   "metadata": {},
   "outputs": [],
   "source": []
  }
 ],
 "metadata": {
  "kernelspec": {
   "display_name": "Python 3 (ipykernel)",
   "language": "python",
   "name": "python3"
  },
  "language_info": {
   "codemirror_mode": {
    "name": "ipython",
    "version": 3
   },
   "file_extension": ".py",
   "mimetype": "text/x-python",
   "name": "python",
   "nbconvert_exporter": "python",
   "pygments_lexer": "ipython3",
   "version": "3.11.0"
  }
 },
 "nbformat": 4,
 "nbformat_minor": 5
}
