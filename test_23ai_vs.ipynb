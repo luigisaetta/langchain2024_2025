{
 "cells": [
  {
   "cell_type": "code",
   "execution_count": 1,
   "id": "7da2037d-b5ab-47b3-b86c-bc7e98725bd9",
   "metadata": {},
   "outputs": [],
   "source": [
    "from glob import glob\n",
    "import logging\n",
    "import oracledb\n",
    "\n",
    "from langchain_community.vectorstores.oraclevs import OracleVS\n",
    "from langchain_community.vectorstores.utils import DistanceStrategy\n",
    "from langchain_core.documents import Document\n",
    "\n",
    "# to load and split txt documents\n",
    "from langchain_community.document_loaders import DirectoryLoader\n",
    "from langchain_community.document_loaders import TextLoader\n",
    "from langchain.text_splitter import RecursiveCharacterTextSplitter\n",
    "\n",
    "# to compute embeddings vectors\n",
    "# from langchain_community.embeddings import OCIGenAIEmbeddings\n",
    "\n",
    "from oci_cohere_embeddings_utils import OCIGenAIEmbeddingsWithBatch\n",
    "from config_private import DB_USER, DB_PWD, DB_HOST_IP, DB_SERVICE\n",
    "from chunk_index_utils import load_books_and_split\n",
    "from utils import enable_tracing\n",
    "\n",
    "from config import OCI_EMBED_MODEL, ENDPOINT\n",
    "from config_private import COMPARTMENT_ID"
   ]
  },
  {
   "cell_type": "code",
   "execution_count": 2,
   "id": "c47d7ec8-88f0-4a42-b220-c2840688ff19",
   "metadata": {},
   "outputs": [
    {
     "ename": "KeyboardInterrupt",
     "evalue": "",
     "output_type": "error",
     "traceback": [
      "\u001b[0;31m---------------------------------------------------------------------------\u001b[0m",
      "\u001b[0;31mKeyboardInterrupt\u001b[0m                         Traceback (most recent call last)",
      "Cell \u001b[0;32mIn[2], line 5\u001b[0m\n\u001b[1;32m      2\u001b[0m DSN \u001b[38;5;241m=\u001b[39m \u001b[38;5;124mf\u001b[39m\u001b[38;5;124m\"\u001b[39m\u001b[38;5;132;01m{\u001b[39;00mDB_HOST_IP\u001b[38;5;132;01m}\u001b[39;00m\u001b[38;5;124m/\u001b[39m\u001b[38;5;132;01m{\u001b[39;00mDB_SERVICE\u001b[38;5;132;01m}\u001b[39;00m\u001b[38;5;124m\"\u001b[39m\n\u001b[1;32m      4\u001b[0m \u001b[38;5;28;01mtry\u001b[39;00m:\n\u001b[0;32m----> 5\u001b[0m     connection \u001b[38;5;241m=\u001b[39m \u001b[43moracledb\u001b[49m\u001b[38;5;241;43m.\u001b[39;49m\u001b[43mconnect\u001b[49m\u001b[43m(\u001b[49m\u001b[43muser\u001b[49m\u001b[38;5;241;43m=\u001b[39;49m\u001b[43mDB_USER\u001b[49m\u001b[43m,\u001b[49m\u001b[43m \u001b[49m\u001b[43mpassword\u001b[49m\u001b[38;5;241;43m=\u001b[39;49m\u001b[43mDB_PWD\u001b[49m\u001b[43m,\u001b[49m\u001b[43m \u001b[49m\u001b[43mdsn\u001b[49m\u001b[38;5;241;43m=\u001b[39;49m\u001b[43mDSN\u001b[49m\u001b[43m)\u001b[49m\n\u001b[1;32m      6\u001b[0m     \u001b[38;5;28mprint\u001b[39m(\u001b[38;5;124m\"\u001b[39m\u001b[38;5;124mConnection successful!\u001b[39m\u001b[38;5;124m\"\u001b[39m)\n\u001b[1;32m      7\u001b[0m \u001b[38;5;28;01mexcept\u001b[39;00m \u001b[38;5;167;01mException\u001b[39;00m \u001b[38;5;28;01mas\u001b[39;00m e:\n",
      "File \u001b[0;32m~/miniforge3/envs/langchain2024/lib/python3.11/site-packages/oracledb/connection.py:1158\u001b[0m, in \u001b[0;36m_connection_factory.<locals>.connect\u001b[0;34m(dsn, pool, conn_class, params, **kwargs)\u001b[0m\n\u001b[1;32m   1156\u001b[0m     message \u001b[38;5;241m=\u001b[39m \u001b[38;5;124m\"\u001b[39m\u001b[38;5;124mpool must be an instance of oracledb.ConnectionPool\u001b[39m\u001b[38;5;124m\"\u001b[39m\n\u001b[1;32m   1157\u001b[0m     \u001b[38;5;28;01mraise\u001b[39;00m \u001b[38;5;167;01mTypeError\u001b[39;00m(message)\n\u001b[0;32m-> 1158\u001b[0m \u001b[38;5;28;01mreturn\u001b[39;00m \u001b[43mconn_class\u001b[49m\u001b[43m(\u001b[49m\u001b[43mdsn\u001b[49m\u001b[38;5;241;43m=\u001b[39;49m\u001b[43mdsn\u001b[49m\u001b[43m,\u001b[49m\u001b[43m \u001b[49m\u001b[43mpool\u001b[49m\u001b[38;5;241;43m=\u001b[39;49m\u001b[43mpool\u001b[49m\u001b[43m,\u001b[49m\u001b[43m \u001b[49m\u001b[43mparams\u001b[49m\u001b[38;5;241;43m=\u001b[39;49m\u001b[43mparams\u001b[49m\u001b[43m,\u001b[49m\u001b[43m \u001b[49m\u001b[38;5;241;43m*\u001b[39;49m\u001b[38;5;241;43m*\u001b[39;49m\u001b[43mkwargs\u001b[49m\u001b[43m)\u001b[49m\n",
      "File \u001b[0;32m~/miniforge3/envs/langchain2024/lib/python3.11/site-packages/oracledb/connection.py:541\u001b[0m, in \u001b[0;36mConnection.__init__\u001b[0;34m(self, dsn, pool, params, **kwargs)\u001b[0m\n\u001b[1;32m    539\u001b[0m     \u001b[38;5;28;01melse\u001b[39;00m:\n\u001b[1;32m    540\u001b[0m         impl \u001b[38;5;241m=\u001b[39m thin_impl\u001b[38;5;241m.\u001b[39mThinConnImpl(dsn, params_impl)\n\u001b[0;32m--> 541\u001b[0m         \u001b[43mimpl\u001b[49m\u001b[38;5;241;43m.\u001b[39;49m\u001b[43mconnect\u001b[49m\u001b[43m(\u001b[49m\u001b[43mparams_impl\u001b[49m\u001b[43m)\u001b[49m\n\u001b[1;32m    542\u001b[0m \u001b[38;5;28;01melse\u001b[39;00m:\n\u001b[1;32m    543\u001b[0m     impl \u001b[38;5;241m=\u001b[39m thick_impl\u001b[38;5;241m.\u001b[39mThickConnImpl(dsn, params_impl)\n",
      "File \u001b[0;32msrc/oracledb/impl/thin/connection.pyx:381\u001b[0m, in \u001b[0;36moracledb.thin_impl.ThinConnImpl.connect\u001b[0;34m()\u001b[0m\n",
      "File \u001b[0;32msrc/oracledb/impl/thin/connection.pyx:377\u001b[0m, in \u001b[0;36moracledb.thin_impl.ThinConnImpl.connect\u001b[0;34m()\u001b[0m\n",
      "File \u001b[0;32msrc/oracledb/impl/thin/connection.pyx:337\u001b[0m, in \u001b[0;36moracledb.thin_impl.ThinConnImpl._connect_with_params\u001b[0;34m()\u001b[0m\n",
      "File \u001b[0;32msrc/oracledb/impl/thin/connection.pyx:318\u001b[0m, in \u001b[0;36moracledb.thin_impl.ThinConnImpl._connect_with_description\u001b[0;34m()\u001b[0m\n",
      "File \u001b[0;32msrc/oracledb/impl/thin/connection.pyx:279\u001b[0m, in \u001b[0;36moracledb.thin_impl.ThinConnImpl._connect_with_address\u001b[0;34m()\u001b[0m\n",
      "File \u001b[0;32msrc/oracledb/impl/thin/protocol.pyx:222\u001b[0m, in \u001b[0;36moracledb.thin_impl.Protocol._connect_phase_one\u001b[0;34m()\u001b[0m\n",
      "File \u001b[0;32msrc/oracledb/impl/thin/protocol.pyx:353\u001b[0m, in \u001b[0;36moracledb.thin_impl.Protocol._connect_tcp\u001b[0;34m()\u001b[0m\n",
      "File \u001b[0;32m~/miniforge3/envs/langchain2024/lib/python3.11/socket.py:835\u001b[0m, in \u001b[0;36mcreate_connection\u001b[0;34m(address, timeout, source_address, all_errors)\u001b[0m\n\u001b[1;32m    833\u001b[0m \u001b[38;5;28;01mif\u001b[39;00m source_address:\n\u001b[1;32m    834\u001b[0m     sock\u001b[38;5;241m.\u001b[39mbind(source_address)\n\u001b[0;32m--> 835\u001b[0m \u001b[43msock\u001b[49m\u001b[38;5;241;43m.\u001b[39;49m\u001b[43mconnect\u001b[49m\u001b[43m(\u001b[49m\u001b[43msa\u001b[49m\u001b[43m)\u001b[49m\n\u001b[1;32m    836\u001b[0m \u001b[38;5;66;03m# Break explicitly a reference cycle\u001b[39;00m\n\u001b[1;32m    837\u001b[0m exceptions\u001b[38;5;241m.\u001b[39mclear()\n",
      "\u001b[0;31mKeyboardInterrupt\u001b[0m: "
     ]
    }
   ],
   "source": [
    "# test the connection\n",
    "DSN = f\"{DB_HOST_IP}/{DB_SERVICE}\"\n",
    "\n",
    "try:\n",
    "    connection = oracledb.connect(user=DB_USER, password=DB_PWD, dsn=DSN)\n",
    "    print(\"Connection successful!\")\n",
    "except Exception as e:\n",
    "    print(\"Connection failed!\")"
   ]
  },
  {
   "cell_type": "code",
   "execution_count": null,
   "id": "611eeecc-4184-43dd-a00c-1dea33db6122",
   "metadata": {},
   "outputs": [],
   "source": [
    "enable_tracing()"
   ]
  },
  {
   "cell_type": "code",
   "execution_count": null,
   "id": "e9f454bd-c339-4b9c-8511-f3ceed5b1f5e",
   "metadata": {},
   "outputs": [],
   "source": [
    "#\n",
    "# Some configurations\n",
    "#\n",
    "\n",
    "# directory where our Knowledge base is contained in txt files\n",
    "BOOKS_DIR = \"./books\"\n",
    "\n",
    "# Configure logging\n",
    "logging.basicConfig(\n",
    "    level=logging.INFO, format=\"%(asctime)s - %(levelname)s - %(message)s\"\n",
    ")\n",
    "\n",
    "embed_model = OCIGenAIEmbeddingsWithBatch(\n",
    "    # this code is done to be run in OCI DS.\n",
    "    # If outside replace with API_KEY and provide API_KEYS\n",
    "    # auth_type = \"RESOURCE_PRINCIPAL\"\n",
    "    auth_type=\"API_KEY\",\n",
    "    model_id=OCI_EMBED_MODEL,\n",
    "    service_endpoint=ENDPOINT,\n",
    "    compartment_id=COMPARTMENT_ID,\n",
    ")"
   ]
  },
  {
   "cell_type": "code",
   "execution_count": null,
   "id": "69cf9b88-f348-4415-8566-6e81f471c21d",
   "metadata": {},
   "outputs": [],
   "source": [
    "# this is the file list containing the Knowledge base\n",
    "file_list = sorted(glob(BOOKS_DIR + \"/\" + \"*.pdf\"))\n",
    "\n",
    "print(f\"There are {len(file_list)} files to be loaded...\")\n",
    "for f_name in file_list:\n",
    "    print(f_name)"
   ]
  },
  {
   "cell_type": "code",
   "execution_count": null,
   "id": "f8a46787-318b-4ec7-b825-aad1399d4482",
   "metadata": {},
   "outputs": [],
   "source": [
    "docs = load_books_and_split(BOOKS_DIR)"
   ]
  },
  {
   "cell_type": "code",
   "execution_count": null,
   "id": "c1dcabff-7c16-44dd-9902-6c871ce27e13",
   "metadata": {},
   "outputs": [],
   "source": [
    "vector_store_max = OracleVS.from_documents(\n",
    "    docs,\n",
    "    embed_model,\n",
    "    client=connection,\n",
    "    table_name=\"CHUNKS_VECTORS\",\n",
    "    distance_strategy=DistanceStrategy.COSINE,\n",
    ")"
   ]
  },
  {
   "cell_type": "code",
   "execution_count": null,
   "id": "d243477c-632e-4f57-a30a-8233087ba1cc",
   "metadata": {},
   "outputs": [],
   "source": [
    "vector_store_max.table_name"
   ]
  },
  {
   "cell_type": "code",
   "execution_count": null,
   "id": "322d373e-1584-4212-9aa2-c175d15b9873",
   "metadata": {},
   "outputs": [],
   "source": [
    "oraclevs.create_index(\n",
    "    connection,\n",
    "    vector_store_max,\n",
    "    params={\n",
    "        \"idx_name\": \"hnsw_idx3\",\n",
    "        \"idx_type\": \"HNSW\",\n",
    "        \"accuracy\": 97,\n",
    "        \"parallel\": 8,\n",
    "    },\n",
    ")"
   ]
  },
  {
   "cell_type": "code",
   "execution_count": null,
   "id": "b984454e-cd9d-429d-baa9-9556fbd456bb",
   "metadata": {},
   "outputs": [],
   "source": [
    "vector_store_max = OracleVS(\n",
    "    embedding_function=embed_model,\n",
    "    client=connection,\n",
    "    table_name=\"CHUNKS_VECTORS\",\n",
    "    query=\"Select * from CHUNKS_VECTORS\",\n",
    "    distance_strategy=DistanceStrategy.COSINE,\n",
    ")"
   ]
  },
  {
   "cell_type": "code",
   "execution_count": null,
   "id": "118872eb-8614-40b9-946f-04aa19e8d264",
   "metadata": {},
   "outputs": [],
   "source": [
    "vector_store_max.client.close()"
   ]
  },
  {
   "cell_type": "code",
   "execution_count": null,
   "id": "dd76dd6c-322f-44db-96b4-2166f1dc3910",
   "metadata": {},
   "outputs": [],
   "source": [
    "try:\n",
    "    connection = oracledb.connect(user=DB_USER, password=DB_PWD, dsn=DSN)\n",
    "    print(\"Connection successful!\")\n",
    "except Exception as e:\n",
    "    print(\"Connection failed!\")\n",
    "\n",
    "vector_store_max.client = connection"
   ]
  },
  {
   "cell_type": "code",
   "execution_count": null,
   "id": "441c543d-a729-42c0-9404-2e9e7f46d668",
   "metadata": {},
   "outputs": [],
   "source": [
    "vector_store_max.client.is_healthy()"
   ]
  },
  {
   "cell_type": "code",
   "execution_count": null,
   "id": "48dec68e-5ec9-4670-9adc-0bfe3c6d6309",
   "metadata": {},
   "outputs": [],
   "source": [
    "%%time\n",
    "query = \"La metformina si può usare per curare il diabete di tipo 2?\"\n",
    "\n",
    "results = vector_store_max.similarity_search(query=query, k=6)\n",
    "\n",
    "results"
   ]
  },
  {
   "cell_type": "code",
   "execution_count": null,
   "id": "c41bb668-6e1c-4dc1-b711-ea1be62159ab",
   "metadata": {},
   "outputs": [],
   "source": [
    "retriever = vector_store_max.as_retriever()"
   ]
  },
  {
   "cell_type": "code",
   "execution_count": null,
   "id": "4ab68cec-026d-46ea-84e0-986db7e5a091",
   "metadata": {},
   "outputs": [],
   "source": [
    "# retriever.vectorstore.client.close()\n",
    "\n",
    "retriever.vectorstore.client = oracledb.connect(user=DB_USER, password=DB_PWD, dsn=DSN)\n",
    "print(\"Connection ok...\")\n",
    "\n",
    "query = \"La metformina si può usare per curare il diabete di tipo 2?\"\n",
    "\n",
    "results = retriever.invoke(query)\n",
    "\n",
    "retriever.vectorstore.client.close()\n",
    "\n",
    "results"
   ]
  },
  {
   "cell_type": "code",
   "execution_count": null,
   "id": "2754bd89-55fd-4700-a9e5-22558ec4b989",
   "metadata": {},
   "outputs": [],
   "source": [
    "retriever.vectorstore.client.is_healthy()"
   ]
  },
  {
   "cell_type": "code",
   "execution_count": null,
   "id": "f92035c2-a9a0-4e4f-89dd-09d6bc9e5627",
   "metadata": {},
   "outputs": [],
   "source": [
    "retriever.vectorstore.client"
   ]
  },
  {
   "cell_type": "code",
   "execution_count": null,
   "id": "0b7c52c2-203a-440d-a6dc-c5c107cbf2a5",
   "metadata": {},
   "outputs": [],
   "source": []
  }
 ],
 "metadata": {
  "kernelspec": {
   "display_name": "Python 3 (ipykernel)",
   "language": "python",
   "name": "python3"
  },
  "language_info": {
   "codemirror_mode": {
    "name": "ipython",
    "version": 3
   },
   "file_extension": ".py",
   "mimetype": "text/x-python",
   "name": "python",
   "nbconvert_exporter": "python",
   "pygments_lexer": "ipython3",
   "version": "3.11.0"
  }
 },
 "nbformat": 4,
 "nbformat_minor": 5
}
