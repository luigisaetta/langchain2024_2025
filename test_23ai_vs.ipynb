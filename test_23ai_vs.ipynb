{
 "cells": [
  {
   "cell_type": "code",
   "execution_count": 1,
   "id": "7da2037d-b5ab-47b3-b86c-bc7e98725bd9",
   "metadata": {},
   "outputs": [],
   "source": [
    "from glob import glob\n",
    "import logging\n",
    "import oracledb\n",
    "\n",
    "from langchain_community.vectorstores.oraclevs import OracleVS\n",
    "from langchain_community.vectorstores.utils import DistanceStrategy\n",
    "from langchain_core.documents import Document\n",
    "\n",
    "# to load and split txt documents\n",
    "from langchain_community.document_loaders import DirectoryLoader\n",
    "from langchain_community.document_loaders import TextLoader\n",
    "from langchain.text_splitter import RecursiveCharacterTextSplitter\n",
    "\n",
    "# to compute embeddings vectors\n",
    "# from langchain_community.embeddings import OCIGenAIEmbeddings\n",
    "\n",
    "from oci_cohere_embeddings_utils import OCIGenAIEmbeddingsWithBatch\n",
    "from config_private import DB_USER, DB_PWD, DB_HOST_IP, DB_SERVICE\n",
    "from chunk_index_utils import load_books_and_split\n",
    "from utils import enable_tracing\n",
    "\n",
    "from config import OCI_EMBED_MODEL, ENDPOINT\n",
    "from config_private import COMPARTMENT_ID"
   ]
  },
  {
   "cell_type": "code",
   "execution_count": 2,
   "id": "c47d7ec8-88f0-4a42-b220-c2840688ff19",
   "metadata": {},
   "outputs": [
    {
     "name": "stdout",
     "output_type": "stream",
     "text": [
      "Connection successful!\n"
     ]
    }
   ],
   "source": [
    "# test the connection\n",
    "DSN = f\"{DB_HOST_IP}/{DB_SERVICE}\"\n",
    "\n",
    "try:\n",
    "    connection = oracledb.connect(user=DB_USER, password=DB_PWD, dsn=DSN)\n",
    "    print(\"Connection successful!\")\n",
    "except Exception as e:\n",
    "    print(\"Connection failed!\")"
   ]
  },
  {
   "cell_type": "code",
   "execution_count": 3,
   "id": "611eeecc-4184-43dd-a00c-1dea33db6122",
   "metadata": {},
   "outputs": [],
   "source": [
    "enable_tracing()"
   ]
  },
  {
   "cell_type": "code",
   "execution_count": 4,
   "id": "e9f454bd-c339-4b9c-8511-f3ceed5b1f5e",
   "metadata": {},
   "outputs": [],
   "source": [
    "#\n",
    "# Some configurations\n",
    "#\n",
    "\n",
    "# directory where our Knowledge base is contained in txt files\n",
    "BOOKS_DIR = \"./books\"\n",
    "\n",
    "# Configure logging\n",
    "logging.basicConfig(\n",
    "    level=logging.INFO, format=\"%(asctime)s - %(levelname)s - %(message)s\"\n",
    ")\n",
    "\n",
    "embed_model = OCIGenAIEmbeddingsWithBatch(\n",
    "    # this code is done to be run in OCI DS.\n",
    "    # If outside replace with API_KEY and provide API_KEYS\n",
    "    # auth_type = \"RESOURCE_PRINCIPAL\"\n",
    "    auth_type=\"API_KEY\",\n",
    "    model_id=OCI_EMBED_MODEL,\n",
    "    service_endpoint=ENDPOINT,\n",
    "    compartment_id=COMPARTMENT_ID,\n",
    ")"
   ]
  },
  {
   "cell_type": "code",
   "execution_count": null,
   "id": "69cf9b88-f348-4415-8566-6e81f471c21d",
   "metadata": {},
   "outputs": [],
   "source": [
    "# this is the file list containing the Knowledge base\n",
    "file_list = sorted(glob(BOOKS_DIR + \"/\" + \"*.pdf\"))\n",
    "\n",
    "print(f\"There are {len(file_list)} files to be loaded...\")\n",
    "for f_name in file_list:\n",
    "    print(f_name)"
   ]
  },
  {
   "cell_type": "code",
   "execution_count": null,
   "id": "f8a46787-318b-4ec7-b825-aad1399d4482",
   "metadata": {},
   "outputs": [],
   "source": [
    "docs = load_books_and_split(BOOKS_DIR)"
   ]
  },
  {
   "cell_type": "code",
   "execution_count": null,
   "id": "c1dcabff-7c16-44dd-9902-6c871ce27e13",
   "metadata": {},
   "outputs": [],
   "source": [
    "vector_store_max = OracleVS.from_documents(\n",
    "    docs,\n",
    "    embed_model,\n",
    "    client=connection,\n",
    "    table_name=\"CHUNKS_VECTORS\",\n",
    "    distance_strategy=DistanceStrategy.COSINE,\n",
    ")"
   ]
  },
  {
   "cell_type": "code",
   "execution_count": null,
   "id": "d243477c-632e-4f57-a30a-8233087ba1cc",
   "metadata": {},
   "outputs": [],
   "source": [
    "vector_store_max.table_name"
   ]
  },
  {
   "cell_type": "code",
   "execution_count": null,
   "id": "322d373e-1584-4212-9aa2-c175d15b9873",
   "metadata": {},
   "outputs": [],
   "source": [
    "oraclevs.create_index(\n",
    "    connection,\n",
    "    vector_store_max,\n",
    "    params={\n",
    "        \"idx_name\": \"hnsw_idx3\",\n",
    "        \"idx_type\": \"HNSW\",\n",
    "        \"accuracy\": 97,\n",
    "        \"parallel\": 8,\n",
    "    },\n",
    ")"
   ]
  },
  {
   "cell_type": "code",
   "execution_count": 5,
   "id": "b984454e-cd9d-429d-baa9-9556fbd456bb",
   "metadata": {},
   "outputs": [],
   "source": [
    "vector_store_max = OracleVS(\n",
    "    embedding_function=embed_model,\n",
    "    client=connection,\n",
    "    table_name=\"CHUNKS_VECTORS\",\n",
    "    query=\"Select * from CHUNKS_VECTORS\",\n",
    "    distance_strategy=DistanceStrategy.COSINE,\n",
    ")"
   ]
  },
  {
   "cell_type": "code",
   "execution_count": null,
   "id": "118872eb-8614-40b9-946f-04aa19e8d264",
   "metadata": {},
   "outputs": [],
   "source": [
    "vector_store_max.client.close()"
   ]
  },
  {
   "cell_type": "code",
   "execution_count": 6,
   "id": "dd76dd6c-322f-44db-96b4-2166f1dc3910",
   "metadata": {},
   "outputs": [
    {
     "name": "stdout",
     "output_type": "stream",
     "text": [
      "Connection successful!\n"
     ]
    }
   ],
   "source": [
    "try:\n",
    "    connection = oracledb.connect(user=DB_USER, password=DB_PWD, dsn=DSN)\n",
    "    print(\"Connection successful!\")\n",
    "except Exception as e:\n",
    "    print(\"Connection failed!\")\n",
    "\n",
    "vector_store_max.client = connection"
   ]
  },
  {
   "cell_type": "code",
   "execution_count": 7,
   "id": "441c543d-a729-42c0-9404-2e9e7f46d668",
   "metadata": {},
   "outputs": [
    {
     "data": {
      "text/plain": [
       "True"
      ]
     },
     "execution_count": 7,
     "metadata": {},
     "output_type": "execute_result"
    }
   ],
   "source": [
    "vector_store_max.client.is_healthy()"
   ]
  },
  {
   "cell_type": "code",
   "execution_count": 8,
   "id": "48dec68e-5ec9-4670-9adc-0bfe3c6d6309",
   "metadata": {},
   "outputs": [
    {
     "name": "stdout",
     "output_type": "stream",
     "text": [
      "CPU times: user 12.8 ms, sys: 2.6 ms, total: 15.4 ms\n",
      "Wall time: 224 ms\n"
     ]
    },
    {
     "data": {
      "text/plain": [
       "[]"
      ]
     },
     "execution_count": 8,
     "metadata": {},
     "output_type": "execute_result"
    }
   ],
   "source": [
    "%%time\n",
    "query = \"La metformina si può usare per curare il diabete di tipo 2?\"\n",
    "\n",
    "results = vector_store_max.similarity_search(query=query, k=6)\n",
    "\n",
    "results"
   ]
  },
  {
   "cell_type": "code",
   "execution_count": null,
   "id": "c41bb668-6e1c-4dc1-b711-ea1be62159ab",
   "metadata": {},
   "outputs": [],
   "source": [
    "retriever = vector_store_max.as_retriever()"
   ]
  },
  {
   "cell_type": "code",
   "execution_count": 9,
   "id": "4ab68cec-026d-46ea-84e0-986db7e5a091",
   "metadata": {},
   "outputs": [
    {
     "ename": "NameError",
     "evalue": "name 'retriever' is not defined",
     "output_type": "error",
     "traceback": [
      "\u001b[0;31m---------------------------------------------------------------------------\u001b[0m",
      "\u001b[0;31mNameError\u001b[0m                                 Traceback (most recent call last)",
      "Cell \u001b[0;32mIn[9], line 3\u001b[0m\n\u001b[1;32m      1\u001b[0m \u001b[38;5;66;03m# retriever.vectorstore.client.close()\u001b[39;00m\n\u001b[0;32m----> 3\u001b[0m \u001b[43mretriever\u001b[49m\u001b[38;5;241m.\u001b[39mvectorstore\u001b[38;5;241m.\u001b[39mclient \u001b[38;5;241m=\u001b[39m oracledb\u001b[38;5;241m.\u001b[39mconnect(user\u001b[38;5;241m=\u001b[39mDB_USER, password\u001b[38;5;241m=\u001b[39mDB_PWD, dsn\u001b[38;5;241m=\u001b[39mDSN)\n\u001b[1;32m      4\u001b[0m \u001b[38;5;28mprint\u001b[39m(\u001b[38;5;124m\"\u001b[39m\u001b[38;5;124mConnection ok...\u001b[39m\u001b[38;5;124m\"\u001b[39m)\n\u001b[1;32m      6\u001b[0m query \u001b[38;5;241m=\u001b[39m \u001b[38;5;124m\"\u001b[39m\u001b[38;5;124mLa metformina si può usare per curare il diabete di tipo 2?\u001b[39m\u001b[38;5;124m\"\u001b[39m\n",
      "\u001b[0;31mNameError\u001b[0m: name 'retriever' is not defined"
     ]
    }
   ],
   "source": [
    "# retriever.vectorstore.client.close()\n",
    "\n",
    "retriever.vectorstore.client = oracledb.connect(user=DB_USER, password=DB_PWD, dsn=DSN)\n",
    "print(\"Connection ok...\")\n",
    "\n",
    "query = \"La metformina si può usare per curare il diabete di tipo 2?\"\n",
    "\n",
    "results = retriever.invoke(query)\n",
    "\n",
    "retriever.vectorstore.client.close()\n",
    "\n",
    "results"
   ]
  },
  {
   "cell_type": "code",
   "execution_count": null,
   "id": "2754bd89-55fd-4700-a9e5-22558ec4b989",
   "metadata": {},
   "outputs": [],
   "source": [
    "retriever.vectorstore.client.is_healthy()"
   ]
  },
  {
   "cell_type": "code",
   "execution_count": null,
   "id": "f92035c2-a9a0-4e4f-89dd-09d6bc9e5627",
   "metadata": {},
   "outputs": [],
   "source": [
    "retriever.vectorstore.client"
   ]
  },
  {
   "cell_type": "code",
   "execution_count": null,
   "id": "0b7c52c2-203a-440d-a6dc-c5c107cbf2a5",
   "metadata": {},
   "outputs": [],
   "source": []
  }
 ],
 "metadata": {
  "kernelspec": {
   "display_name": "Python 3 (ipykernel)",
   "language": "python",
   "name": "python3"
  },
  "language_info": {
   "codemirror_mode": {
    "name": "ipython",
    "version": 3
   },
   "file_extension": ".py",
   "mimetype": "text/x-python",
   "name": "python",
   "nbconvert_exporter": "python",
   "pygments_lexer": "ipython3",
   "version": "3.11.0"
  }
 },
 "nbformat": 4,
 "nbformat_minor": 5
}
