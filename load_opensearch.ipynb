{
 "cells": [
  {
   "cell_type": "markdown",
   "id": "458e8707-f92b-4a45-a321-32f6b80b746c",
   "metadata": {},
   "source": [
    "### Initial Loading for OpenSearch Vector Store"
   ]
  },
  {
   "cell_type": "code",
   "execution_count": 1,
   "id": "0ac145b4-cf64-4f96-a03e-e64d08bcbe35",
   "metadata": {},
   "outputs": [],
   "source": [
    "from langchain_community.vectorstores import OpenSearchVectorSearch\n",
    "\n",
    "from factory import get_embed_model\n",
    "from chunk_index_utils import load_books_and_split\n",
    "from utils import get_console_logger\n",
    "\n",
    "from config import BOOKS_DIR, OPENSEARCH_SHARED_PARAMS\n",
    "from config_private import OPENSEARCH_USER, OPENSEARCH_PWD"
   ]
  },
  {
   "cell_type": "code",
   "execution_count": 2,
   "id": "f8251524-0133-4f8f-b286-088cff8c5264",
   "metadata": {},
   "outputs": [],
   "source": [
    "logger = get_console_logger()"
   ]
  },
  {
   "cell_type": "code",
   "execution_count": 3,
   "id": "280b1c02-001f-407b-8c9a-11fbf7823284",
   "metadata": {},
   "outputs": [],
   "source": [
    "# the model that will be used to embed texts\n",
    "embed_model = get_embed_model(model_type=\"OCI\")"
   ]
  },
  {
   "cell_type": "code",
   "execution_count": 4,
   "id": "3c8a6fe7-5ca2-40e9-ba81-bf61a21b57a3",
   "metadata": {},
   "outputs": [
    {
     "name": "stderr",
     "output_type": "stream",
     "text": [
      "2024-05-08 11:02:00,898 - Loading documents from ./books...\n",
      "2024-05-08 11:02:00,902 - Loading books: \n",
      "2024-05-08 11:02:00,902 - * ./books/CurrentEssentialsofMedicine.pdf\n",
      "2024-05-08 11:02:00,903 - * ./books/Il conto corrente in parole semplici.pdf\n",
      "2024-05-08 11:02:00,903 - * ./books/La storia del Gruppo-iccrea.pdf\n",
      "2024-05-08 11:02:00,904 - * ./books/La_Centrale_dei_Rischi_in_parole_semplici.pdf\n",
      "2024-05-08 11:02:00,905 - * ./books/covid19_treatment_guidelines.pdf\n",
      "2024-05-08 11:02:00,907 - * ./books/database-concepts.pdf\n",
      "2024-05-08 11:02:00,908 - * ./books/high-availability-23c.pdf\n",
      "2024-05-08 11:02:00,908 - * ./books/the-side-effects-of-metformin-a-review.pdf\n"
     ]
    },
    {
     "data": {
      "application/vnd.jupyter.widget-view+json": {
       "model_id": "04330141a7a64ca7a11f654eb38cdca1",
       "version_major": 2,
       "version_minor": 0
      },
      "text/plain": [
       "  0%|          | 0/8 [00:00<?, ?it/s]"
      ]
     },
     "metadata": {},
     "output_type": "display_data"
    },
    {
     "name": "stderr",
     "output_type": "stream",
     "text": [
      "2024-05-08 11:02:04,498 - WARNING - Ignoring wrong pointing object 14 0 (offset 0)\n",
      "2024-05-08 11:02:04,499 - WARNING - Ignoring wrong pointing object 26 0 (offset 0)\n",
      "2024-05-08 11:02:04,500 - WARNING - Ignoring wrong pointing object 33 0 (offset 0)\n",
      "2024-05-08 11:02:21,618 - Loaded 4832 chunks of text...\n"
     ]
    }
   ],
   "source": [
    "# load all the books in BOOKS_DIR\n",
    "docs = load_books_and_split(BOOKS_DIR)"
   ]
  },
  {
   "cell_type": "code",
   "execution_count": null,
   "id": "69a2b1e5-b7f2-410e-bf80-4fca92b8a27a",
   "metadata": {},
   "outputs": [],
   "source": [
    "# load text and embeddings in OpenSearch\n",
    "docsearch = OpenSearchVectorSearch.from_documents(\n",
    "    docs,\n",
    "    embedding=embed_model,\n",
    "    http_auth=(OPENSEARCH_USER, OPENSEARCH_PWD),\n",
    "    **OPENSEARCH_SHARED_PARAMS\n",
    ")"
   ]
  },
  {
   "cell_type": "code",
   "execution_count": null,
   "id": "2d1a21de-9d21-4c82-a9fe-00333913b9e0",
   "metadata": {},
   "outputs": [],
   "source": []
  }
 ],
 "metadata": {
  "kernelspec": {
   "display_name": "Python 3 (ipykernel)",
   "language": "python",
   "name": "python3"
  },
  "language_info": {
   "codemirror_mode": {
    "name": "ipython",
    "version": 3
   },
   "file_extension": ".py",
   "mimetype": "text/x-python",
   "name": "python",
   "nbconvert_exporter": "python",
   "pygments_lexer": "ipython3",
   "version": "3.11.0"
  }
 },
 "nbformat": 4,
 "nbformat_minor": 5
}
