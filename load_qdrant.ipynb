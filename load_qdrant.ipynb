{
 "cells": [
  {
   "cell_type": "markdown",
   "id": "8abad8b4-660b-4ac9-ba2f-c1a96a1f3e22",
   "metadata": {},
   "source": [
    "### Initial load for Qdrant Vector Vector Store"
   ]
  },
  {
   "cell_type": "code",
   "execution_count": 1,
   "id": "03ed65a1-58a1-4cab-bf8a-c77cc46e754f",
   "metadata": {},
   "outputs": [],
   "source": [
    "from langchain_community.vectorstores import Qdrant\n",
    "\n",
    "from factory import get_embed_model\n",
    "from chunk_index_utils import load_books_and_split\n",
    "from utils import get_console_logger\n",
    "\n",
    "from config import BOOKS_DIR"
   ]
  },
  {
   "cell_type": "code",
   "execution_count": 2,
   "id": "6ef3362e-9908-48e8-aa3e-167499dab3a1",
   "metadata": {},
   "outputs": [],
   "source": [
    "logger = get_console_logger()"
   ]
  },
  {
   "cell_type": "code",
   "execution_count": 3,
   "id": "d6d68043-f71b-485c-bf8f-5c34187d1831",
   "metadata": {},
   "outputs": [],
   "source": [
    "# the model that will be used to embed texts\n",
    "embed_model = get_embed_model(model_type=\"OCI\")"
   ]
  },
  {
   "cell_type": "code",
   "execution_count": 4,
   "id": "ed1d2be1-7420-4480-9fed-ef367fefa3e9",
   "metadata": {},
   "outputs": [
    {
     "name": "stderr",
     "output_type": "stream",
     "text": [
      "2024-05-10 13:17:06,576 - Loading documents from ./books...\n",
      "2024-05-10 13:17:06,577 - Loading books: \n",
      "2024-05-10 13:17:06,578 - * ./books/CurrentEssentialsofMedicine.pdf\n",
      "2024-05-10 13:17:06,578 - * ./books/Il conto corrente in parole semplici.pdf\n",
      "2024-05-10 13:17:06,579 - * ./books/La storia del Gruppo-iccrea.pdf\n",
      "2024-05-10 13:17:06,579 - * ./books/La_Centrale_dei_Rischi_in_parole_semplici.pdf\n",
      "2024-05-10 13:17:06,580 - * ./books/covid19_treatment_guidelines.pdf\n",
      "2024-05-10 13:17:06,580 - * ./books/database-concepts.pdf\n",
      "2024-05-10 13:17:06,580 - * ./books/high-availability-23c.pdf\n",
      "2024-05-10 13:17:06,580 - * ./books/the-side-effects-of-metformin-a-review.pdf\n"
     ]
    },
    {
     "data": {
      "application/vnd.jupyter.widget-view+json": {
       "model_id": "68ecae53171747b5b2e25087411ac2ca",
       "version_major": 2,
       "version_minor": 0
      },
      "text/plain": [
       "  0%|          | 0/8 [00:00<?, ?it/s]"
      ]
     },
     "metadata": {},
     "output_type": "display_data"
    },
    {
     "name": "stderr",
     "output_type": "stream",
     "text": [
      "Ignoring wrong pointing object 14 0 (offset 0)\n",
      "Ignoring wrong pointing object 26 0 (offset 0)\n",
      "Ignoring wrong pointing object 33 0 (offset 0)\n",
      "2024-05-10 13:17:27,725 - Loaded 4832 chunks of text...\n"
     ]
    }
   ],
   "source": [
    "# load all the books in BOOKS_DIR\n",
    "docs = load_books_and_split(BOOKS_DIR)"
   ]
  },
  {
   "cell_type": "code",
   "execution_count": 9,
   "id": "e9882ac4-841b-446d-af1c-73a458b9ff29",
   "metadata": {},
   "outputs": [],
   "source": [
    "url = \"http://localhost:6333\"\n",
    "\n",
    "qdrant = Qdrant.from_documents(\n",
    "    docs,\n",
    "    embed_model,\n",
    "    url=url,\n",
    "    prefer_grpc=False,\n",
    "    collection_name=\"ORACLE_KNOWLEDGE\",\n",
    ")"
   ]
  },
  {
   "cell_type": "code",
   "execution_count": null,
   "id": "8fd554ae-ba40-4f0f-a983-8909c2c5f829",
   "metadata": {},
   "outputs": [],
   "source": []
  }
 ],
 "metadata": {
  "kernelspec": {
   "display_name": "Python 3 (ipykernel)",
   "language": "python",
   "name": "python3"
  },
  "language_info": {
   "codemirror_mode": {
    "name": "ipython",
    "version": 3
   },
   "file_extension": ".py",
   "mimetype": "text/x-python",
   "name": "python",
   "nbconvert_exporter": "python",
   "pygments_lexer": "ipython3",
   "version": "3.11.0"
  }
 },
 "nbformat": 4,
 "nbformat_minor": 5
}
