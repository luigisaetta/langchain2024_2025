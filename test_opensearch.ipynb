{
 "cells": [
  {
   "cell_type": "markdown",
   "id": "3f7a01d3-b807-4062-b003-09db88f345e8",
   "metadata": {},
   "source": [
    "### Test Retrieval on OpenSearch Vector Store"
   ]
  },
  {
   "cell_type": "code",
   "execution_count": 1,
   "id": "4f0a2497-96e7-412f-9024-4564ac4e8c96",
   "metadata": {},
   "outputs": [],
   "source": [
    "from factory import get_embed_model, get_vector_store, get_rag_chain"
   ]
  },
  {
   "cell_type": "code",
   "execution_count": 2,
   "id": "cf3386fd-dccb-4dfd-a8b3-83dfc6e363f6",
   "metadata": {},
   "outputs": [],
   "source": [
    "embed_model = get_embed_model(model_type=\"OCI\")\n",
    "\n",
    "v_store = get_vector_store(\"OPENSEARCH\", embed_model, None, None)\n",
    "\n",
    "retriever = v_store.as_retriever(search_kwargs={\"k\": 2})"
   ]
  },
  {
   "cell_type": "markdown",
   "id": "5de3ffe6-d6e8-498b-9d14-da20c0276b49",
   "metadata": {},
   "source": [
    "#### Retrieval"
   ]
  },
  {
   "cell_type": "code",
   "execution_count": 3,
   "id": "8b31259f-0ab6-4c4f-af0c-dd14d4d4f758",
   "metadata": {},
   "outputs": [
    {
     "name": "stdout",
     "output_type": "stream",
     "text": [
      "abetes. Clin Diabetes 26: 77-82.\n",
      "3. American Diabetes Association (2002) Implications of the United King-dom Prospective Diabetes Study. Diabetes Care 25: 28-32.\n",
      "4. DeFronzo RA (1999) Pharmacologic therapy for type 2 diabetes mellitus. Ann Intern Med 131: 281-303.\n",
      "5. International Diabetes Federation (2017) IDF Diabetes Atlas (8\n",
      "thEdn.).\n",
      "6. Dunn CJ, Peters DH (1995) Metformin. A review of its pharmacological properties and therapeutic use in non-insulin-dependent diabetes mellitus. Drugs 49: 721-749.\n",
      "7. National Institute for Health and Clinical Excellence (NICE) (2015) Type 2 diabetes in adults: Management (NG28).\n",
      "8. Danaei G, Finucane MM, Lu Y , Singh GM, Cowan MJ, et al. (2011) Na-tional, regional, and global trends in fasting plasma glucose and diabetes prevalence since 1980: Systematic analysis of health examination surveys and epidemiological studies with 370 country-years and 2·7 million par -\n",
      "ticipants. Lancet 378: 31-40.\n",
      "9. International Diabetes Federation (2015) IDF diabetes atlas, 6\n",
      "th edition.\n",
      "10. Fischer J, Ganellin CR, Ganesan A, Proudfoot J (2010) Standalone drugs. \n",
      "In: Ganellin. Analogue-based drug discovery. Weinheim: Wiley-VCH Ver -\n",
      "lag GmbH & Co.\n",
      "11. Holman R (2007) Metformin as first choice in oral diabetes treatment: the UKPDS experience. Journ Annu Diabetol Hotel Dieu 13-20.\n",
      "12. Hsu WH, Hsiao PJ, Lin PC, Chen SC, Lee MY , et al. (2018) Effect of\n",
      "{'source': './books/the-side-effects-of-metformin-a-review.pdf', 'page': 4}\n",
      "-----------------------------\n",
      "use and mortality in patients with advanced chronic kidney disease: na-tional, retrospective, observational, cohort study. Lancet Diabetes Endo-crinol 3: 605-614.\n",
      "61. US Food & Drug Administration (FDA) (2016).\n",
      "62. Rojas LB, Gomes MB (2013) Metformin: an old but still the best treatment \n",
      "for type 2 diabetes. Diabetol Metab Syndr 5: 6.\n",
      "63. Glucophage\n",
      "® and Glucophage, XR product information, Bristol-Myers \n",
      "Squibb Company, USA.\n",
      "64. Metformin-side-effects, Diabetes UK .\n",
      "{'source': './books/the-side-effects-of-metformin-a-review.pdf', 'page': 5}\n",
      "-----------------------------\n"
     ]
    }
   ],
   "source": [
    "# test\n",
    "QUERY = \"La metformina può essere usata per curare il diabete di tipo 2 nei pazienti anziani?\"\n",
    "results = retriever.invoke(QUERY)\n",
    "\n",
    "for doc in results:\n",
    "    print(doc.page_content)\n",
    "    print(doc.metadata)\n",
    "    print(\"-----------------------------\")"
   ]
  },
  {
   "cell_type": "markdown",
   "id": "c2dea727-d6a4-4164-8765-dc6a34021169",
   "metadata": {},
   "source": [
    "#### Test the entire chain"
   ]
  },
  {
   "cell_type": "code",
   "execution_count": 4,
   "id": "41aefed6-1d70-4e31-a883-942404aa7b88",
   "metadata": {},
   "outputs": [],
   "source": [
    "# first 2 params needed only for local FAISS index\n",
    "rag_chain = get_rag_chain(None, None, verbose=False)"
   ]
  },
  {
   "cell_type": "code",
   "execution_count": 5,
   "id": "eaca4377-3575-4daf-86f6-8524457630fb",
   "metadata": {},
   "outputs": [
    {
     "name": "stdout",
     "output_type": "stream",
     "text": [
      "\n",
      " Metformin is recommended by the American and European guidelines for patients with Type 2 Diabetes Mellitus (T2DM) along with lifestyle interventions. It is often prescribed to adults with T2DM alone or with other antidiabetic drugs and is known to help improve carbohydrate and lipid metabolism. \n",
      "\n",
      "Would you like to know the other drugs that can be prescribed to patients with Type 2 Diabetes? \n"
     ]
    }
   ],
   "source": [
    "chat_history = []\n",
    "\n",
    "input_msg = {\n",
    "    \"input\": QUERY,\n",
    "    \"chat_history\": chat_history,\n",
    "}\n",
    "\n",
    "output = rag_chain.invoke(input_msg)\n",
    "\n",
    "print(\"\")\n",
    "print(output[\"answer\"])"
   ]
  },
  {
   "cell_type": "code",
   "execution_count": null,
   "id": "ff94c910-8834-4729-a169-4c95cc38bb15",
   "metadata": {},
   "outputs": [],
   "source": []
  }
 ],
 "metadata": {
  "kernelspec": {
   "display_name": "Python 3 (ipykernel)",
   "language": "python",
   "name": "python3"
  },
  "language_info": {
   "codemirror_mode": {
    "name": "ipython",
    "version": 3
   },
   "file_extension": ".py",
   "mimetype": "text/x-python",
   "name": "python",
   "nbconvert_exporter": "python",
   "pygments_lexer": "ipython3",
   "version": "3.11.0"
  }
 },
 "nbformat": 4,
 "nbformat_minor": 5
}
