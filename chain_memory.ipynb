{
 "cells": [
  {
   "cell_type": "code",
   "execution_count": 1,
   "id": "e7af139a-40c8-4686-acf3-2942f901c2a0",
   "metadata": {},
   "outputs": [],
   "source": [
    "import os\n",
    "\n",
    "from langchain_text_splitters import RecursiveCharacterTextSplitter\n",
    "from langchain_community.document_loaders import PyPDFDirectoryLoader\n",
    "from langchain_community.vectorstores import FAISS\n",
    "from langchain_cohere import ChatCohere, CohereRerank\n",
    "from langchain.retrievers import ContextualCompressionRetriever\n",
    "\n",
    "# to handle conversational memory\n",
    "from langchain.memory import ConversationBufferMemory\n",
    "from langchain.chains import ConversationalRetrievalChain\n",
    "\n",
    "from oci_cohere_embeddings_utils import OCIGenAIEmbeddingsWithBatch\n",
    "from utils import format_docs\n",
    "from my_prompts import prompt_4_answer\n",
    "\n",
    "from config import EMBED_MODEL, ENDPOINT, COHERE_GENAI_MODEL\n",
    "from config_private import COMPARTMENT_OCID, COHERE_API_KEY, LANGSMITH_API_KEY"
   ]
  },
  {
   "cell_type": "code",
   "execution_count": 2,
   "id": "92627b4d-c181-44f9-a738-b05ef7ae4a7f",
   "metadata": {},
   "outputs": [],
   "source": [
    "#\n",
    "# abilitiamo il tracing con LangSmith\n",
    "#\n",
    "os.environ[\"LANGCHAIN_TRACING_V2\"] = \"true\"\n",
    "os.environ[\"LANGCHAIN_PROJECT\"] = \"memory01\"\n",
    "os.environ[\"LANGCHAIN_API_KEY\"] = LANGSMITH_API_KEY\n",
    "\n",
    "# parametri per il retrieval\n",
    "# Similarity search\n",
    "TOP_K = 6\n",
    "# reranking\n",
    "TOP_N = 4\n",
    "\n",
    "# la directory che contiene i pdf\n",
    "DIR_NAME = \"./books\"\n",
    "# la directory in cui il vector store è salvato\n",
    "FAISS_DIR = \"./faiss_index\"\n",
    "\n",
    "# parametri LLM Cohere\n",
    "TEMPERATURE = 0.0\n",
    "MAX_TOKENS = 1024"
   ]
  },
  {
   "cell_type": "code",
   "execution_count": 3,
   "id": "ff169c4a-9a7b-4e34-8b4e-46b14cfe415e",
   "metadata": {},
   "outputs": [],
   "source": [
    "embed_model = OCIGenAIEmbeddingsWithBatch(\n",
    "    auth_type=\"API_KEY\",\n",
    "    model_id=EMBED_MODEL,\n",
    "    service_endpoint=ENDPOINT,\n",
    "    compartment_id=COMPARTMENT_OCID,\n",
    ")\n",
    "\n",
    "cohere_rerank = CohereRerank(cohere_api_key=COHERE_API_KEY, top_n=TOP_N)\n",
    "\n",
    "#\n",
    "# LLM\n",
    "#\n",
    "llm = ChatCohere(\n",
    "    cohere_api_key=COHERE_API_KEY,\n",
    "    model=COHERE_GENAI_MODEL,\n",
    "    max_tokens=MAX_TOKENS,\n",
    "    temperature=TEMPERATURE,\n",
    ")"
   ]
  },
  {
   "cell_type": "code",
   "execution_count": 4,
   "id": "718956fa-6d17-4ef5-b55f-acddf1083329",
   "metadata": {},
   "outputs": [
    {
     "name": "stdout",
     "output_type": "stream",
     "text": [
      "Loaded 2809 chunks...\n",
      "Indexing books...\n"
     ]
    },
    {
     "data": {
      "application/vnd.jupyter.widget-view+json": {
       "model_id": "191515776d8e4130a27fcc4ea73a7b81",
       "version_major": 2,
       "version_minor": 0
      },
      "text/plain": [
       "  0%|          | 0/32 [00:00<?, ?it/s]"
      ]
     },
     "metadata": {},
     "output_type": "display_data"
    }
   ],
   "source": [
    "#\n",
    "# qui vettorizza tutti i chunks oppure\n",
    "# li legge se salvati in locale\n",
    "#\n",
    "if os.path.exists(FAISS_DIR):\n",
    "    print(\"Loading Vector Store from local dir...\")\n",
    "\n",
    "    v_store = FAISS.load_local(\n",
    "        FAISS_DIR, embed_model, allow_dangerous_deserialization=True\n",
    "    )\n",
    "else:\n",
    "    text_splitter = RecursiveCharacterTextSplitter(\n",
    "        chunk_size=3000,\n",
    "        chunk_overlap=50,\n",
    "        length_function=len,\n",
    "        is_separator_regex=False,\n",
    "    )\n",
    "\n",
    "    loader = PyPDFDirectoryLoader(path=DIR_NAME, glob=\"*.pdf\")\n",
    "\n",
    "    # document are pages\n",
    "    docs = loader.load_and_split(text_splitter=text_splitter)\n",
    "\n",
    "    print(f\"Loaded {len(docs)} chunks...\")\n",
    "\n",
    "    print(f\"Indexing books...\")\n",
    "    v_store = FAISS.from_documents(docs, embed_model)\n",
    "\n",
    "    v_store.save_local(FAISS_DIR)"
   ]
  },
  {
   "cell_type": "code",
   "execution_count": 6,
   "id": "f7bd7756-6dcc-4613-8aed-b11cd247826d",
   "metadata": {},
   "outputs": [],
   "source": [
    "base_retriever = v_store.as_retriever()\n",
    "\n",
    "#\n",
    "# add a reranker\n",
    "#\n",
    "compression_retriever = ContextualCompressionRetriever(\n",
    "    base_compressor=cohere_rerank, base_retriever=base_retriever\n",
    ")"
   ]
  },
  {
   "cell_type": "code",
   "execution_count": 7,
   "id": "1b4e079a-473b-4113-84c3-3ce5317ba379",
   "metadata": {},
   "outputs": [],
   "source": [
    "#\n",
    "# create the entire chain\n",
    "#\n",
    "memory = ConversationBufferMemory(\n",
    "    memory_key=\"chat_history\", return_messages=True, output_key=\"answer\"\n",
    ")\n",
    "\n",
    "rag_chain = ConversationalRetrievalChain.from_llm(\n",
    "    llm,\n",
    "    retriever=compression_retriever,\n",
    "    memory=memory,\n",
    "    # cosi customizzo il final prompt\n",
    "    combine_docs_chain_kwargs={\"prompt\": prompt_4_answer},\n",
    "    return_source_documents=True,\n",
    ")"
   ]
  },
  {
   "cell_type": "code",
   "execution_count": 16,
   "id": "895d0f8d-b8cd-4058-8936-339e22c7f4b0",
   "metadata": {},
   "outputs": [],
   "source": [
    "def answer(chain, question):\n",
    "    response = chain.invoke(question)\n",
    "\n",
    "    print(question)\n",
    "    print(\"\")\n",
    "    print(response[\"answer\"])"
   ]
  },
  {
   "cell_type": "code",
   "execution_count": 24,
   "id": "93aab96d-fdf3-44f4-b493-5ddef9b75e98",
   "metadata": {},
   "outputs": [
    {
     "data": {
      "application/vnd.jupyter.widget-view+json": {
       "model_id": "613166eafcf443648dc4ba92e580e05f",
       "version_major": 2,
       "version_minor": 0
      },
      "text/plain": [
       "  0%|          | 0/1 [00:00<?, ?it/s]"
      ]
     },
     "metadata": {},
     "output_type": "display_data"
    },
    {
     "name": "stdout",
     "output_type": "stream",
     "text": [
      "Scrivi una mail, da inviare ad un cliente di nome Luigi Saetta, \n",
      "           in cui spieghi quali vantaggi Oracle Data Guard offre per il Disaster Recovery\n",
      "\n",
      "I vantaggi chiave di Oracle Data Guard in termini di protezione dei dati e di disaster recovery sono i seguenti:\n",
      "- Replicazione dei dati in tempo reale: Oracle Data Guard crea e mantiene una o più repliche in standby della tua database principale. Queste repliche in standby sono aggiornate in tempo reale, riducendo al minimo la perdita di dati in caso di interruzione.\n",
      "- Flessibilità: Supporta vari tipi di database standby, tra cui fisico, snapshot e logico, consentendoti di scegliere l'opzione più adatta alle tue esigenze. La flessibilità consente inoltre di utilizzare i database standby per carichi di lavoro read-only, riducendo il carico sul database primario.\n",
      "- Scalabilità: Fino a 30 database standby possono ricevere il redo direttamente dal database primario. Inoltre, la possibilità di utilizzare un database standby a cascata consente di sincronizzare un numero illimitato di database standby.\n",
      "- Bilanciamento del carico di lavoro: I carichi di lavoro di lettura possono essere bilanciati tra il database primario e i database standby, alleviando il carico sul database primario e migliorando le prestazioni complessive.\n",
      "- Operazioni automatizzate: Il processo di switchover e failover è automatizzato, garantendo un'interruzione minima in caso di guasto. Inoltre, le operazioni di convalida Oracle-aware e la riparazione automatica dei blocchi corrotti contribuiscono a mantenere l'integrità dei dati.\n",
      "- Integrazione con altri prodotti Oracle: Oracle Data Guard si integra bene con altri prodotti Oracle, come Oracle Real Application Clusters (RAC), Oracle Recovery Manager (RMAN) e Oracle GoldenGate. Ciò semplifica la gestione del sistema e fornisce una soluzione completa per l'elevata disponibilità.\n",
      "\n",
      "Oracle Data Guard offre un'eccellente soluzione per il disaster recovery, garantendo la continuità delle operazioni e riducendo al minimo i tempi di inattività. La sua capacità di bilanciare i carichi di lavoro, replicare i dati in tempo reale e automatizzare le operazioni lo rende una scelta popolare per le aziende che desiderano proteggere i propri dati e migliorare la resilienza del sistema.\n",
      "CPU times: user 119 ms, sys: 19.5 ms, total: 138 ms\n",
      "Wall time: 8.06 s\n"
     ]
    }
   ],
   "source": [
    "%%time\n",
    "question = \"\"\"Scrivi una mail, da inviare ad un cliente di nome Luigi Saetta, \n",
    "           in cui spieghi quali vantaggi Oracle Data Guard offre per il Disaster Recovery\"\"\"\n",
    "\n",
    "answer(rag_chain, question)"
   ]
  },
  {
   "cell_type": "code",
   "execution_count": 25,
   "id": "cfac7fcd-f47d-4b07-abd3-2c9fa96c4c98",
   "metadata": {},
   "outputs": [
    {
     "data": {
      "application/vnd.jupyter.widget-view+json": {
       "model_id": "830edc4c6ba54642877a725003713ebb",
       "version_major": 2,
       "version_minor": 0
      },
      "text/plain": [
       "  0%|          | 0/1 [00:00<?, ?it/s]"
      ]
     },
     "metadata": {},
     "output_type": "display_data"
    },
    {
     "name": "stdout",
     "output_type": "stream",
     "text": [
      "Qual farmaci possono essere usati per curare il diabete di tipo 2 negli adulti?\n",
      "\n",
      "I farmaci disponibili per il trattamento del diabete di tipo 2 negli adulti sono numerosi. Il primo farmaco di scelta per il trattamento del diabete di tipo 2 è in genere la metformina, che appartiene alla classe dei biguanidi. La metformina aiuta il corpo a ripristinare la sua capacità di rispondere all'insulina e abbassa i livelli di zucchero nel sangue inibendo la produzione di glucosio nel fegato. \n",
      "\n",
      "Altri farmaci che possono essere prescritti sono:\n",
      "\n",
      "- Inibitori delle alfa-glucosidasi, come l'acarbose e la miglitol, che rallentano l'assorbimento degli zuccheri nell'intestino tenue\n",
      "- Sulfoniluree, come la glimepiride e la glipizide, che stimolano le cellule pancreatiche a rilasciare più insulina\n",
      "- Glitazoni, come la pioglitazone, che aumentano la sensibilità dell'organismo all'insulina\n",
      "- Inibitori del co-trasportatore 2 del sodio-glucosio, come la dapagliflozina e l'empagliflozina, che riducono la riassorbimento del glucosio a livello renale\n",
      "- Inibitori della dipeptidil peptidasi-4, come la sitagliptina e la saxagliptina, che rallentano la decomposizione dell'ormone GLP-1, che aiuta a controllare i livelli di zucchero nel sangue\n",
      "- Analoghi del GLP-1, come l'exenatide e il liraglutide, che mimano gli effetti dell'ormone GLP-1\n",
      "- Insulina, che può essere prescritta se i farmaci orali non riescono a controllare adeguatamente i livelli di zucchero nel sangue\n",
      "\n",
      "È importante ricordare che il trattamento del diabete di tipo 2 deve essere personalizzato per ogni paziente e che la scelta del farmaco deve essere fatta in consultazione con un medico qualificato. Inoltre, il trattamento farmacologico va di solito di pari passo con le modifiche dello stile di vita, come una dieta bilanciata e l'esercizio fisico regolare.\n"
     ]
    }
   ],
   "source": [
    "question = \"\"\"Qual farmaci possono essere usati per curare il diabete di tipo 2 negli adulti?\"\"\"\n",
    "\n",
    "answer(rag_chain, question)"
   ]
  },
  {
   "cell_type": "code",
   "execution_count": 20,
   "id": "f34d7745-ba12-4b0d-ab9f-48f09e51e4ca",
   "metadata": {},
   "outputs": [
    {
     "data": {
      "application/vnd.jupyter.widget-view+json": {
       "model_id": "61af6689364749b3b95ebd578cd3b208",
       "version_major": 2,
       "version_minor": 0
      },
      "text/plain": [
       "  0%|          | 0/1 [00:00<?, ?it/s]"
      ]
     },
     "metadata": {},
     "output_type": "display_data"
    },
    {
     "name": "stdout",
     "output_type": "stream",
     "text": [
      "Può essere opportuno usare la metformina nei pazienti anziani?\n",
      "\n",
      "Si', la metformina e' generalmente considerata una scelta sicura per il trattamento del diabete di tipo 2 nei pazienti anziani. E' un farmaco raccomandato nelle linee guida sia americane che europee per il trattamento del diabete di tipo 2 in pazienti anziani, a causa del suo profilo di sicurezza favorevole e del suo basso costo. \n",
      "\n",
      "Tuttavia, e' importante utilizzare la metformina con cautela in alcuni pazienti anziani con problemi di salute aggiuntivi. La metformina deve essere usata con cautela nei pazienti anziani con insufficienza renale, poiché può accumularsi nel corpo e causare effetti collaterali. I pazienti anziani possono anche essere più sensibili agli effetti collaterali della metformina, come nausea, vomito e diarrea. Quindi, la dose deve essere attentamente monitorata e aggiustata in base alle condizioni individuali.\n",
      "\n",
      "Inoltre, la metformina deve essere interrotta prima di qualsiasi intervento chirurgico o procedura medica a causa del rischio aumentato di acidosi lattica durante l'anestesia. Quindi, i pazienti anziani che assumono metformina devono informare il loro medico curante o il chirurgo dell'assunzione del farmaco prima di sottoporsi a un intervento chirurgico. \n",
      "\n",
      "In sintesi, la metformina è una scelta relativamente sicura per il trattamento del diabete di tipo 2 nei pazienti anziani, ma richiede cautela e un attento monitoraggio da parte del medico.\n"
     ]
    }
   ],
   "source": [
    "question = \"\"\"Può essere opportuno usare la metformina nei pazienti anziani?\"\"\"\n",
    "\n",
    "answer(rag_chain, question)"
   ]
  },
  {
   "cell_type": "code",
   "execution_count": null,
   "id": "a9820b23-bf8c-47ca-bf0c-edb7e0b8c90c",
   "metadata": {},
   "outputs": [],
   "source": [
    "memory.clear()"
   ]
  },
  {
   "cell_type": "code",
   "execution_count": null,
   "id": "19b790cc-42ae-4746-9776-db94d0992e17",
   "metadata": {},
   "outputs": [],
   "source": []
  }
 ],
 "metadata": {
  "kernelspec": {
   "display_name": "Python 3 (ipykernel)",
   "language": "python",
   "name": "python3"
  },
  "language_info": {
   "codemirror_mode": {
    "name": "ipython",
    "version": 3
   },
   "file_extension": ".py",
   "mimetype": "text/x-python",
   "name": "python",
   "nbconvert_exporter": "python",
   "pygments_lexer": "ipython3",
   "version": "3.11.0"
  }
 },
 "nbformat": 4,
 "nbformat_minor": 5
}
