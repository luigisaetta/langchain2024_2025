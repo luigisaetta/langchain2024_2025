{
 "cells": [
  {
   "cell_type": "code",
   "execution_count": 1,
   "id": "e7af139a-40c8-4686-acf3-2942f901c2a0",
   "metadata": {},
   "outputs": [],
   "source": [
    "import os\n",
    "from tqdm.auto import tqdm\n",
    "\n",
    "from langchain_text_splitters import RecursiveCharacterTextSplitter\n",
    "from langchain_community.document_loaders import PyPDFDirectoryLoader\n",
    "from langchain_community.vectorstores import FAISS\n",
    "from langchain_cohere import ChatCohere, CohereRagRetriever, CohereRerank\n",
    "from langchain.retrievers import ContextualCompressionRetriever\n",
    "from langchain_core.output_parsers import StrOutputParser\n",
    "from langchain_core.runnables import RunnablePassthrough\n",
    "\n",
    "\n",
    "from oci_cohere_embeddings_utils import OCIGenAIEmbeddingsWithBatch\n",
    "from utils import format_docs\n",
    "from my_prompts import prompt_4_answer\n",
    "\n",
    "from config import EMBED_MODEL, ENDPOINT, COHERE_GENAI_MODEL\n",
    "from config_private import COMPARTMENT_OCID, COHERE_API_KEY, LANGSMITH_API_KEY"
   ]
  },
  {
   "cell_type": "code",
   "execution_count": 2,
   "id": "92627b4d-c181-44f9-a738-b05ef7ae4a7f",
   "metadata": {},
   "outputs": [],
   "source": [
    "#\n",
    "# abilitiamo il tracing con LangSmith\n",
    "#\n",
    "os.environ[\"LANGCHAIN_TRACING_V2\"] = \"true\"\n",
    "os.environ[\"LANGCHAIN_PROJECT\"] = \"test_command_r\"\n",
    "os.environ[\"LANGCHAIN_API_KEY\"] = LANGSMITH_API_KEY\n",
    "\n",
    "# parametri per il retrieval\n",
    "# Similarity search\n",
    "TOP_K = 6\n",
    "# reranking\n",
    "TOP_N = 4\n",
    "\n",
    "# la directory che contiene i pdf\n",
    "DIR_NAME = \"./books\"\n",
    "# la directory in cui il vector store è salvato\n",
    "FAISS_DIR = \"./faiss_index\"\n",
    "\n",
    "# parametri LLM Cohere\n",
    "TEMPERATURE = 0.0\n",
    "MAX_TOKENS = 1024"
   ]
  },
  {
   "cell_type": "code",
   "execution_count": 3,
   "id": "ff169c4a-9a7b-4e34-8b4e-46b14cfe415e",
   "metadata": {},
   "outputs": [],
   "source": [
    "embed_model = OCIGenAIEmbeddingsWithBatch(\n",
    "    auth_type=\"API_KEY\",\n",
    "    model_id=EMBED_MODEL,\n",
    "    service_endpoint=ENDPOINT,\n",
    "    compartment_id=COMPARTMENT_OCID,\n",
    ")\n",
    "\n",
    "cohere_rerank = CohereRerank(cohere_api_key=COHERE_API_KEY, top_n=TOP_N)\n",
    "\n",
    "# prompt per la genereazione della risposta finale\n",
    "\n",
    "\n",
    "#\n",
    "# LLM\n",
    "#\n",
    "llm = ChatCohere(\n",
    "    cohere_api_key=COHERE_API_KEY,\n",
    "    model=COHERE_GENAI_MODEL,\n",
    "    max_tokens=MAX_TOKENS,\n",
    "    temperature=TEMPERATURE,\n",
    ")"
   ]
  },
  {
   "cell_type": "code",
   "execution_count": 4,
   "id": "718956fa-6d17-4ef5-b55f-acddf1083329",
   "metadata": {},
   "outputs": [
    {
     "name": "stdout",
     "output_type": "stream",
     "text": [
      "Loaded 2790 chunks...\n",
      "Indexing books...\n"
     ]
    },
    {
     "data": {
      "application/vnd.jupyter.widget-view+json": {
       "model_id": "0ba14299fb37438a9ff2fd5655376ed0",
       "version_major": 2,
       "version_minor": 0
      },
      "text/plain": [
       "  0%|          | 0/31 [00:00<?, ?it/s]"
      ]
     },
     "metadata": {},
     "output_type": "display_data"
    }
   ],
   "source": [
    "#\n",
    "# qui vettorizza tutti i chunks oppure\n",
    "# li legge se salvati in locale\n",
    "#\n",
    "if os.path.exists(FAISS_DIR):\n",
    "    print(\"Loading Vector Store from local dir...\")\n",
    "\n",
    "    v_store = FAISS.load_local(\n",
    "        FAISS_DIR, embed_model, allow_dangerous_deserialization=True\n",
    "    )\n",
    "else:\n",
    "    text_splitter = RecursiveCharacterTextSplitter(\n",
    "        chunk_size=3000,\n",
    "        chunk_overlap=50,\n",
    "        length_function=len,\n",
    "        is_separator_regex=False,\n",
    "    )\n",
    "\n",
    "    loader = PyPDFDirectoryLoader(path=DIR_NAME, glob=\"*.pdf\")\n",
    "\n",
    "    # document are pages\n",
    "    docs = loader.load_and_split(text_splitter=text_splitter)\n",
    "\n",
    "    print(f\"Loaded {len(docs)} chunks...\")\n",
    "\n",
    "    print(f\"Indexing books...\")\n",
    "    v_store = FAISS.from_documents(docs, embed_model)\n",
    "\n",
    "    v_store.save_local(FAISS_DIR)"
   ]
  },
  {
   "cell_type": "code",
   "execution_count": 5,
   "id": "f7bd7756-6dcc-4613-8aed-b11cd247826d",
   "metadata": {},
   "outputs": [],
   "source": [
    "base_retriever = v_store.as_retriever()\n",
    "\n",
    "#\n",
    "# add a reranker\n",
    "#\n",
    "compression_retriever = ContextualCompressionRetriever(\n",
    "    base_compressor=cohere_rerank, base_retriever=base_retriever\n",
    ")"
   ]
  },
  {
   "cell_type": "code",
   "execution_count": 6,
   "id": "1b4e079a-473b-4113-84c3-3ce5317ba379",
   "metadata": {},
   "outputs": [],
   "source": [
    "#\n",
    "# create the entire chain\n",
    "#\n",
    "rag_chain = (\n",
    "    {\"context\": compression_retriever | format_docs, \"question\": RunnablePassthrough()}\n",
    "    | prompt_4_answer\n",
    "    | llm\n",
    "    | StrOutputParser()\n",
    ")"
   ]
  },
  {
   "cell_type": "code",
   "execution_count": 7,
   "id": "7cf3e839-e7f0-4cf9-892b-c890eb5e73d3",
   "metadata": {},
   "outputs": [],
   "source": [
    "def answer(rag_chain, question):\n",
    "    answer = rag_chain.invoke(question)\n",
    "\n",
    "    print(f\"Question: {question}\")\n",
    "    print(\"\")\n",
    "    print(answer)\n",
    "    print(\"\")"
   ]
  },
  {
   "cell_type": "code",
   "execution_count": 8,
   "id": "13c10e95-4a26-43ae-b4de-5bb6c22eac3c",
   "metadata": {},
   "outputs": [],
   "source": [
    "question = \"\"\"Puoi scrivere una mail, per un cliente di nome Luigi Saetta, \n",
    "           in cui spieghi quali vantaggi Oracle Data Guard offre per il Disaster Recovery?\"\"\""
   ]
  },
  {
   "cell_type": "code",
   "execution_count": 9,
   "id": "93aab96d-fdf3-44f4-b493-5ddef9b75e98",
   "metadata": {},
   "outputs": [
    {
     "data": {
      "application/vnd.jupyter.widget-view+json": {
       "model_id": "9ba888345df54e529dd03d91f1270451",
       "version_major": 2,
       "version_minor": 0
      },
      "text/plain": [
       "  0%|          | 0/1 [00:00<?, ?it/s]"
      ]
     },
     "metadata": {},
     "output_type": "display_data"
    },
    {
     "name": "stdout",
     "output_type": "stream",
     "text": [
      "Question: Puoi scrivere una mail, per un cliente di nome Luigi Saetta, \n",
      "           in cui spieghi quali vantaggi Oracle Data Guard offre per il Disaster Recovery?\n",
      "\n",
      "Caro Luigi Saetta,\n",
      "\n",
      "Voglio portarle all'attenzione i vantaggi di Oracle Data Guard per le soluzioni di disaster recovery. Oracle Data Guard è una funzionalità potente e completa che aiuta a garantire l'elevata disponibilità, la protezione dei dati e il recupero in caso di disastri.\n",
      "\n",
      "I vantaggi chiave di utilizzare Oracle Data Guard per il disaster recovery includono:\n",
      "\n",
      "1. Elevata disponibilità: Oracle Data Guard consente di creare un numero massimo di 30 repliche stand-by dei database primari. Queste repliche stand-by possono essere utilizzate per garantire un'elevata disponibilità dei dati e ridurre al minimo i tempi di inattività in caso di guasti.\n",
      "\n",
      "2. Protezione dei dati: Oracle Data Guard fornisce un'ampia serie di servizi per la creazione, la gestione e il monitoraggio di database stand-by. Ciò aiuta a proteggere i dati da corruzioni o disastri. La funzionalità di validazione Oracle-aware assicura che gli aggiornamenti vengano applicati a un database di standby solo dopo che sono stati sottoposti a più controlli di coerenza fisica e logica.\n",
      "\n",
      "3. Recupero rapido: Oracle Data Guard consente un recupero rapido in caso di interruzione. Il processo di applicazione della riproduzione garantisce che il database di standby sia un'esatta replica del database primario, consentendo un failover rapido e indolore. Ciò aiuta a ridurre al minimo il tempo di inattività e garantire la continuità delle operazioni.\n",
      "\n",
      "4. Zero Data Loss: Oracle Data Guard elimina il ritardo di propagazione e garantisce la perdita zero dei dati. Ciò significa che, in caso di guasto, il database di standby può essere aggiornato istantaneamente al punto di interruzione, assicurando che nessun dato venga perso.\n",
      "\n",
      "5. Flessibilità: Oracle Data Guard supporta diversi tipi di database stand-by, tra cui stand-by fisici, snapshot stand-by e stand-by logici, consentendoti di scegliere l'opzione più adatta alle tue esigenze. Inoltre, supporta tutti i tipi di dati e può essere utilizzato in combinazione con altre tecnologie Oracle per fornire una protezione dei dati ancora più potente.\n",
      "\n",
      "In conclusione, Oracle Data Guard è una soluzione potente e affidabile per il disaster recovery. La sua capacità di garantire elevate disponibilità, proteggere i dati e fornire un rapido recupero lo rende una scelta ideale per le aziende che desiderano garantire la resilienza dei loro sistemi.\n",
      "\n",
      "Spero che queste informazioni siano utili. Per ulteriori dettagli, non esitate a contattarci.\n",
      "\n",
      "Cordiali saluti,\n",
      "[Il tuo nome]\n",
      "\n",
      "CPU times: user 133 ms, sys: 36.6 ms, total: 169 ms\n",
      "Wall time: 7.27 s\n"
     ]
    }
   ],
   "source": [
    "%%time\n",
    "answer(rag_chain, question)"
   ]
  },
  {
   "cell_type": "code",
   "execution_count": 10,
   "id": "f34d7745-ba12-4b0d-ab9f-48f09e51e4ca",
   "metadata": {},
   "outputs": [
    {
     "data": {
      "application/vnd.jupyter.widget-view+json": {
       "model_id": "2e3121b652b343ecab1eda2ef4f8c35c",
       "version_major": 2,
       "version_minor": 0
      },
      "text/plain": [
       "  0%|          | 0/1 [00:00<?, ?it/s]"
      ]
     },
     "metadata": {},
     "output_type": "display_data"
    },
    {
     "name": "stdout",
     "output_type": "stream",
     "text": [
      "Question: Puoi elencare i sintomi del long covid negli adulti?\n",
      "\n",
      "I sintomi del long COVID negli adulti possono variare ampiamente da persona a persona e possono persistere o ricorrere per mesi dopo l'infezione iniziale da SARS-CoV-2. I sintomi più comuni includono:\n",
      "\n",
      "1. Affaticamento\n",
      "2. Dispnea (difficoltà a respirare)\n",
      "3. Dolori muscolari e articolari\n",
      "4. Mal di testa\n",
      "5. Perdita dell'olfatto e del gusto\n",
      "6. Dolore al petto\n",
      "7. Insomnia\n",
      "8. Nausea e vomito\n",
      "9. Diarrea\n",
      "10. Febbre bassa\n",
      "\n",
      "Inoltre, i pazienti possono sperimentare sintomi neurologici come nebbia mentale, difficoltà di concentrazione e dimenticanza, nonché sintomi psicologici come ansia e depressione. Il long COVID può anche causare dolori alle articolazioni, mal di gola, dolori addominali e perdita di peso.\n",
      "\n",
      "In alcuni casi, i sintomi del long COVID possono essere gravi e compromettere la capacità di una persona di svolgere le normali attività quotidiane. È importante notare che il long COVID può verificarsi sia in pazienti che hanno sperimentato sintomi gravi di COVID-19 durante l'infezione iniziale, sia in quelli che avevano sintomi lievi o assenti.\n",
      "\n"
     ]
    }
   ],
   "source": [
    "question = \"\"\"Puoi elencare i sintomi del long covid negli adulti?\"\"\"\n",
    "\n",
    "answer(rag_chain, question)"
   ]
  },
  {
   "cell_type": "code",
   "execution_count": null,
   "id": "aa7419c5-aec1-4fa3-bcb5-9833a765baeb",
   "metadata": {},
   "outputs": [],
   "source": []
  }
 ],
 "metadata": {
  "kernelspec": {
   "display_name": "Python 3 (ipykernel)",
   "language": "python",
   "name": "python3"
  },
  "language_info": {
   "codemirror_mode": {
    "name": "ipython",
    "version": 3
   },
   "file_extension": ".py",
   "mimetype": "text/x-python",
   "name": "python",
   "nbconvert_exporter": "python",
   "pygments_lexer": "ipython3",
   "version": "3.11.0"
  }
 },
 "nbformat": 4,
 "nbformat_minor": 5
}
