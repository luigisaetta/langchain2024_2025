{
 "cells": [
  {
   "cell_type": "markdown",
   "id": "777be250-6718-40cf-b5b9-364642ed0a27",
   "metadata": {},
   "source": [
    "### Test API Keys\n",
    "This NB can be used to test that API KEYS in general are OK\n",
    "\n",
    "THen, test policies for GenAI"
   ]
  },
  {
   "cell_type": "code",
   "execution_count": null,
   "id": "19f6a90f-d67e-4e68-885a-5fd9823a8b8a",
   "metadata": {},
   "outputs": [],
   "source": [
    "import oci"
   ]
  },
  {
   "cell_type": "code",
   "execution_count": 2,
   "id": "6f0a33bf-f443-4e68-b9e5-b420891b7524",
   "metadata": {},
   "outputs": [],
   "source": [
    "def load_oci_config():\n",
    "    # read OCI config to connect to OCI with API key\n",
    "\n",
    "    # are you using default profile?\n",
    "    oci_config = oci.config.from_file(\"~/.oci/config\", \"DEFAULT\")\n",
    "\n",
    "    return oci_config"
   ]
  },
  {
   "cell_type": "code",
   "execution_count": 3,
   "id": "59f5227e-0745-4fab-b1d3-771fa9533946",
   "metadata": {},
   "outputs": [
    {
     "data": {
      "text/plain": [
       "{'log_requests': False,\n",
       " 'additional_user_agent': '',\n",
       " 'pass_phrase': None,\n",
       " 'user': 'ocid1.user.oc1..aaaaaaaam7l7yi5s3s3geptbpegudbjqx46o2xied5me6okxxvu3gie2jota',\n",
       " 'fingerprint': 'c6:4f:66:e7:3f:bc:ca:2e:55:2e:d1:e0:e4:8b:ab:c7',\n",
       " 'tenancy': 'ocid1.tenancy.oc1..aaaaaaaa5hwtrus75rauufcfvtnjnz3mc4xm2bzibbigva2bw4ne7ezkvzha',\n",
       " 'region': 'eu-frankfurt-1',\n",
       " 'key_file': '~/.oci/lsaetta09052024.pem'}"
      ]
     },
     "execution_count": 3,
     "metadata": {},
     "output_type": "execute_result"
    }
   ],
   "source": [
    "oci_config = load_oci_config()\n",
    "\n",
    "oci_config"
   ]
  },
  {
   "cell_type": "code",
   "execution_count": 4,
   "id": "6a6dea13-a57d-4b7f-8ecb-9a39cea2adc2",
   "metadata": {},
   "outputs": [],
   "source": [
    "oci.config.validate_config(oci_config)"
   ]
  },
  {
   "cell_type": "code",
   "execution_count": 5,
   "id": "1dfa7bea-789a-46e9-bc74-f2c0d4434da4",
   "metadata": {},
   "outputs": [],
   "source": [
    "storage = oci.object_storage.ObjectStorageClient(oci_config)"
   ]
  },
  {
   "cell_type": "code",
   "execution_count": 6,
   "id": "eb83fa27-bfff-4a10-8fc4-d4687e548a7b",
   "metadata": {},
   "outputs": [
    {
     "name": "stdout",
     "output_type": "stream",
     "text": [
      "putting file...\n"
     ]
    }
   ],
   "source": [
    "# the test copy a local file in a bucket in Object Storage\n",
    "\n",
    "sourcefile = \"README.md\"\n",
    "namespace = \"frpj5kvxryk1\"\n",
    "bucketname = \"test_bucket\"\n",
    "destfilename = sourcefile\n",
    "\n",
    "try:\n",
    "    print(\"putting file...\")\n",
    "    storage.put_object(namespace, bucketname, destfilename, sourcefile)\n",
    "except Exception as e:\n",
    "    print(\"putting failed: %s\" % e)\n",
    "    exit(1)"
   ]
  },
  {
   "cell_type": "code",
   "execution_count": 7,
   "id": "783baf90-2f91-4225-8dd5-7f9e464522d7",
   "metadata": {},
   "outputs": [
    {
     "name": "stdout",
     "output_type": "stream",
     "text": [
      "file put. Retrieving all objects\n",
      "File found in bucket: README.md\n"
     ]
    }
   ],
   "source": [
    "print(\"file put. Retrieving all objects\")\n",
    "bucketObjects = storage.list_objects(namespace, bucketname).data\n",
    "\n",
    "for o in bucketObjects.objects:\n",
    "    print(\"File found in bucket: %s\" % o.name)"
   ]
  },
  {
   "cell_type": "code",
   "execution_count": null,
   "id": "996b4d1a-7ff4-4a08-b2f2-f9b058a05a5d",
   "metadata": {},
   "outputs": [],
   "source": []
  }
 ],
 "metadata": {
  "kernelspec": {
   "display_name": "Python 3 (ipykernel)",
   "language": "python",
   "name": "python3"
  },
  "language_info": {
   "codemirror_mode": {
    "name": "ipython",
    "version": 3
   },
   "file_extension": ".py",
   "mimetype": "text/x-python",
   "name": "python",
   "nbconvert_exporter": "python",
   "pygments_lexer": "ipython3",
   "version": "3.11.0"
  }
 },
 "nbformat": 4,
 "nbformat_minor": 5
}
