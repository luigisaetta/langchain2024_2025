{
 "cells": [
  {
   "cell_type": "markdown",
   "id": "a97a227f-423f-49b3-a837-3d4541c40872",
   "metadata": {},
   "source": [
    "### Oracle AI Vector Search: adding more docs to AI Vector Search"
   ]
  },
  {
   "cell_type": "code",
   "execution_count": 1,
   "id": "f64d9fd0-36d2-43bf-b59c-b25001673ebc",
   "metadata": {
    "tags": []
   },
   "outputs": [],
   "source": [
    "import logging\n",
    "from glob import glob\n",
    "\n",
    "import oracledb\n",
    "\n",
    "# to compute embeddings vectors\n",
    "from oci_cohere_embeddings_utils import OCIGenAIEmbeddingsWithBatch\n",
    "from langchain_community.vectorstores import oraclevs\n",
    "from langchain_community.vectorstores.oraclevs import OracleVS\n",
    "from langchain_community.vectorstores.utils import DistanceStrategy\n",
    "\n",
    "# the class to integrate OCI AI Vector Search with LangChain\n",
    "from chunk_index_utils import load_book_and_split\n",
    "from utils import enable_tracing\n",
    "from config import OCI_EMBED_MODEL, ENDPOINT\n",
    "from config_private import COMPARTMENT_ID, DB_USER, DB_PWD, DB_HOST_IP, DB_SERVICE"
   ]
  },
  {
   "cell_type": "markdown",
   "id": "924d39f9-d1c4-4c0f-8d1a-a9c7bc9fcbf8",
   "metadata": {},
   "source": [
    "#### Setup"
   ]
  },
  {
   "cell_type": "code",
   "execution_count": 2,
   "id": "c8da1d7c-25b0-4e7d-9d5f-ec6b1529cd0d",
   "metadata": {
    "tags": []
   },
   "outputs": [],
   "source": [
    "#\n",
    "# Some configurations\n",
    "#\n",
    "\n",
    "# directory where our Knowledge base is contained in txt files\n",
    "BOOKS_DIR = \"./books\"\n",
    "\n",
    "# to connect to DB\n",
    "username = DB_USER\n",
    "password = DB_PWD\n",
    "dsn = f\"{DB_HOST_IP}:1521/{DB_SERVICE}\"\n",
    "\n",
    "# Configure logging\n",
    "logging.basicConfig(\n",
    "    level=logging.INFO, format=\"%(asctime)s - %(levelname)s - %(message)s\"\n",
    ")\n",
    "\n",
    "embed_model = OCIGenAIEmbeddingsWithBatch(\n",
    "    # this code is done to be run in OCI DS.\n",
    "    # If outside replace with API_KEY and provide API_KEYS\n",
    "    # auth_type = \"RESOURCE_PRINCIPAL\"\n",
    "    auth_type=\"API_KEY\",\n",
    "    model_id=OCI_EMBED_MODEL,\n",
    "    service_endpoint=ENDPOINT,\n",
    "    compartment_id=COMPARTMENT_ID,\n",
    ")\n",
    "\n",
    "enable_tracing()"
   ]
  },
  {
   "cell_type": "code",
   "execution_count": 3,
   "id": "4ef2fd13-0ac8-4a9c-acbf-4a2174bca928",
   "metadata": {
    "tags": []
   },
   "outputs": [
    {
     "name": "stdout",
     "output_type": "stream",
     "text": [
      "There are 1 files to be loaded...\n",
      "oracle-ai-vector-search-users-guide.pdf\n"
     ]
    }
   ],
   "source": [
    "# this is the file list containing the Knowledge base\n",
    "\n",
    "# put the file to add here\n",
    "file_list = [\"oracle-ai-vector-search-users-guide.pdf\"]\n",
    "\n",
    "print(f\"There are {len(file_list)} files to be loaded...\")\n",
    "\n",
    "for f_name in file_list:\n",
    "    print(f_name)"
   ]
  },
  {
   "cell_type": "markdown",
   "id": "3801e226-e346-4836-b35a-94e15d28e695",
   "metadata": {},
   "source": [
    "#### Load all files and then splits in chunks"
   ]
  },
  {
   "cell_type": "code",
   "execution_count": 4,
   "id": "fed75fb1-b97d-459f-87dd-6b5e2bb34f36",
   "metadata": {},
   "outputs": [
    {
     "name": "stderr",
     "output_type": "stream",
     "text": [
      "2024-05-14 17:18:53,852 - Loaded 351 chunks...\n"
     ]
    }
   ],
   "source": [
    "docs = []\n",
    "\n",
    "for f_name in file_list:\n",
    "    f_name = BOOKS_DIR + \"/\" + f_name\n",
    "\n",
    "    docs.extend(load_book_and_split(f_name))"
   ]
  },
  {
   "cell_type": "markdown",
   "id": "518a854c-ba3b-4db3-99d0-ce2e4d5ff8db",
   "metadata": {},
   "source": [
    "#### Vector Store and load vectors + embeddings in the DB"
   ]
  },
  {
   "cell_type": "code",
   "execution_count": 5,
   "id": "c2def960-aa5e-46e9-9ded-51967cffd736",
   "metadata": {},
   "outputs": [
    {
     "name": "stdout",
     "output_type": "stream",
     "text": [
      "Connection successful!\n"
     ]
    },
    {
     "data": {
      "application/vnd.jupyter.widget-view+json": {
       "model_id": "7a1994daf6bf429abafe0a527ec0ab47",
       "version_major": 2,
       "version_minor": 0
      },
      "text/plain": [
       "  0%|          | 0/4 [00:00<?, ?it/s]"
      ]
     },
     "metadata": {},
     "output_type": "display_data"
    }
   ],
   "source": [
    "try:\n",
    "    connection = oracledb.connect(user=username, password=password, dsn=dsn)\n",
    "    print(\"Connection successful!\")\n",
    "\n",
    "    v_store = OracleVS(\n",
    "        client=connection,\n",
    "        table_name=\"ORACLE_KNOWLEDGE\",\n",
    "        distance_strategy=DistanceStrategy.COSINE,\n",
    "        embedding_function=embed_model,\n",
    "    )\n",
    "\n",
    "    # add the documents\n",
    "    v_store.add_documents(docs)\n",
    "\n",
    "except Exception as e:\n",
    "    print(\"Connection failed!\")\n",
    "    print(e)"
   ]
  },
  {
   "cell_type": "markdown",
   "id": "7333cb53-74db-4928-9d40-9bf046d6a7f6",
   "metadata": {},
   "source": [
    "#### Do a query for test"
   ]
  },
  {
   "cell_type": "code",
   "execution_count": null,
   "id": "1f105a80-3cc3-4c2c-8676-163f31a98252",
   "metadata": {},
   "outputs": [],
   "source": []
  }
 ],
 "metadata": {
  "kernelspec": {
   "display_name": "Python 3 (ipykernel)",
   "language": "python",
   "name": "python3"
  },
  "language_info": {
   "codemirror_mode": {
    "name": "ipython",
    "version": 3
   },
   "file_extension": ".py",
   "mimetype": "text/x-python",
   "name": "python",
   "nbconvert_exporter": "python",
   "pygments_lexer": "ipython3",
   "version": "3.11.0"
  }
 },
 "nbformat": 4,
 "nbformat_minor": 5
}
