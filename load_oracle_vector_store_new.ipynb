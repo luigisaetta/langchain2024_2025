{
 "cells": [
  {
   "cell_type": "markdown",
   "id": "a97a227f-423f-49b3-a837-3d4541c40872",
   "metadata": {},
   "source": [
    "### Oracle AI Vector Search: Loading the Vector Store\n",
    "\n",
    "With this Notebook you can load your Knowledge Base in Oracle DB and create and  store the Embeddings Vectors.\n",
    "\n",
    "The KB is made by a set of pdf files, stored in a directory. This NB:\n",
    "* Reads all the pdf files and splits in chunks\n",
    "* Compute the embeddings for all chunks\n",
    "* Store chunks and embeddings in **ORACLE_KNOWLEDGE** table\n",
    "\n",
    "* This demo is based on the **LangChain** integration\n",
    "* **OCI GenAI multi-lingual (Cohere) embeddings**\n",
    "* Data will be stored in a single table\n",
    "\n",
    "Afterward, you can do a similarity search and run an assistant, based on OCI GenAI, on top."
   ]
  },
  {
   "cell_type": "code",
   "execution_count": 1,
   "id": "f64d9fd0-36d2-43bf-b59c-b25001673ebc",
   "metadata": {
    "tags": []
   },
   "outputs": [],
   "source": [
    "import logging\n",
    "from glob import glob\n",
    "\n",
    "import oracledb\n",
    "\n",
    "# to compute embeddings vectors\n",
    "from oci_cohere_embeddings_utils import OCIGenAIEmbeddingsWithBatch\n",
    "from langchain_community.vectorstores import oraclevs\n",
    "from langchain_community.vectorstores.oraclevs import OracleVS\n",
    "from langchain_community.vectorstores.utils import DistanceStrategy\n",
    "\n",
    "# the class to integrate OCI AI Vector Search with LangChain\n",
    "from chunk_index_utils import load_books_and_split\n",
    "from utils import enable_tracing\n",
    "from config import OCI_EMBED_MODEL, ENDPOINT\n",
    "from config_private import COMPARTMENT_ID, DB_USER, DB_PWD, DB_HOST_IP, DB_SERVICE"
   ]
  },
  {
   "cell_type": "markdown",
   "id": "924d39f9-d1c4-4c0f-8d1a-a9c7bc9fcbf8",
   "metadata": {},
   "source": [
    "#### Setup"
   ]
  },
  {
   "cell_type": "code",
   "execution_count": 2,
   "id": "c8da1d7c-25b0-4e7d-9d5f-ec6b1529cd0d",
   "metadata": {
    "tags": []
   },
   "outputs": [],
   "source": [
    "#\n",
    "# Some configurations\n",
    "#\n",
    "\n",
    "# directory where our Knowledge base is contained in txt files\n",
    "BOOKS_DIR = \"./books\"\n",
    "\n",
    "# to connect to DB\n",
    "username = DB_USER\n",
    "password = DB_PWD\n",
    "dsn = f\"{DB_HOST_IP}:1521/{DB_SERVICE}\"\n",
    "\n",
    "# Configure logging\n",
    "logging.basicConfig(\n",
    "    level=logging.INFO, format=\"%(asctime)s - %(levelname)s - %(message)s\"\n",
    ")\n",
    "\n",
    "embed_model = OCIGenAIEmbeddingsWithBatch(\n",
    "    # this code is done to be run in OCI DS.\n",
    "    # If outside replace with API_KEY and provide API_KEYS\n",
    "    # auth_type = \"RESOURCE_PRINCIPAL\"\n",
    "    auth_type=\"API_KEY\",\n",
    "    model_id=OCI_EMBED_MODEL,\n",
    "    service_endpoint=ENDPOINT,\n",
    "    compartment_id=COMPARTMENT_ID,\n",
    ")\n",
    "\n",
    "enable_tracing()"
   ]
  },
  {
   "cell_type": "code",
   "execution_count": 3,
   "id": "4ef2fd13-0ac8-4a9c-acbf-4a2174bca928",
   "metadata": {
    "tags": []
   },
   "outputs": [
    {
     "name": "stdout",
     "output_type": "stream",
     "text": [
      "There are 8 files to be loaded...\n",
      "./books/CurrentEssentialsofMedicine.pdf\n",
      "./books/Il conto corrente in parole semplici.pdf\n",
      "./books/La storia del Gruppo-iccrea.pdf\n",
      "./books/La_Centrale_dei_Rischi_in_parole_semplici.pdf\n",
      "./books/covid19_treatment_guidelines.pdf\n",
      "./books/database-concepts.pdf\n",
      "./books/high-availability-23c.pdf\n",
      "./books/the-side-effects-of-metformin-a-review.pdf\n"
     ]
    }
   ],
   "source": [
    "# this is the file list containing the Knowledge base\n",
    "file_list = sorted(glob(BOOKS_DIR + \"/\" + \"*.pdf\"))\n",
    "\n",
    "print(f\"There are {len(file_list)} files to be loaded...\")\n",
    "for f_name in file_list:\n",
    "    print(f_name)"
   ]
  },
  {
   "cell_type": "markdown",
   "id": "3801e226-e346-4836-b35a-94e15d28e695",
   "metadata": {},
   "source": [
    "#### Load all files and then splits in chunks"
   ]
  },
  {
   "cell_type": "code",
   "execution_count": 4,
   "id": "fed75fb1-b97d-459f-87dd-6b5e2bb34f36",
   "metadata": {},
   "outputs": [
    {
     "name": "stderr",
     "output_type": "stream",
     "text": [
      "2024-05-09 11:39:06,700 - Loading documents from ./books...\n",
      "2024-05-09 11:39:06,706 - Loading books: \n",
      "2024-05-09 11:39:06,706 - * ./books/CurrentEssentialsofMedicine.pdf\n",
      "2024-05-09 11:39:06,707 - * ./books/Il conto corrente in parole semplici.pdf\n",
      "2024-05-09 11:39:06,708 - * ./books/La storia del Gruppo-iccrea.pdf\n",
      "2024-05-09 11:39:06,708 - * ./books/La_Centrale_dei_Rischi_in_parole_semplici.pdf\n",
      "2024-05-09 11:39:06,709 - * ./books/covid19_treatment_guidelines.pdf\n",
      "2024-05-09 11:39:06,710 - * ./books/database-concepts.pdf\n",
      "2024-05-09 11:39:06,711 - * ./books/high-availability-23c.pdf\n",
      "2024-05-09 11:39:06,712 - * ./books/the-side-effects-of-metformin-a-review.pdf\n"
     ]
    },
    {
     "data": {
      "application/vnd.jupyter.widget-view+json": {
       "model_id": "5764a51516454a99b3d9332d8245b182",
       "version_major": 2,
       "version_minor": 0
      },
      "text/plain": [
       "  0%|          | 0/8 [00:00<?, ?it/s]"
      ]
     },
     "metadata": {},
     "output_type": "display_data"
    },
    {
     "name": "stderr",
     "output_type": "stream",
     "text": [
      "2024-05-09 11:39:26,504 - Loaded 4832 chunks of text...\n"
     ]
    }
   ],
   "source": [
    "docs = load_books_and_split(BOOKS_DIR)"
   ]
  },
  {
   "cell_type": "markdown",
   "id": "518a854c-ba3b-4db3-99d0-ce2e4d5ff8db",
   "metadata": {},
   "source": [
    "#### Vector Store and load vectors + embeddings in the DB"
   ]
  },
  {
   "cell_type": "code",
   "execution_count": 5,
   "id": "c2def960-aa5e-46e9-9ded-51967cffd736",
   "metadata": {},
   "outputs": [
    {
     "name": "stdout",
     "output_type": "stream",
     "text": [
      "Connection successful!\n"
     ]
    },
    {
     "data": {
      "application/vnd.jupyter.widget-view+json": {
       "model_id": "b470c312cbc243afb51b570f9871adfa",
       "version_major": 2,
       "version_minor": 0
      },
      "text/plain": [
       "  0%|          | 0/54 [00:00<?, ?it/s]"
      ]
     },
     "metadata": {},
     "output_type": "display_data"
    }
   ],
   "source": [
    "try:\n",
    "    connection = oracledb.connect(user=username, password=password, dsn=dsn)\n",
    "    print(\"Connection successful!\")\n",
    "except Exception as e:\n",
    "    print(\"Connection failed!\")\n",
    "    print(e)\n",
    "\n",
    "v_store = OracleVS.from_documents(\n",
    "    docs,\n",
    "    embed_model,\n",
    "    client=connection,\n",
    "    table_name=\"ORACLE_KNOWLEDGE\",\n",
    "    distance_strategy=DistanceStrategy.COSINE,\n",
    ")"
   ]
  },
  {
   "cell_type": "code",
   "execution_count": null,
   "id": "32bb9bdc-7e6e-4abd-8ffa-9273bf8dbb1a",
   "metadata": {},
   "outputs": [],
   "source": [
    "# create an index\n",
    "oraclevs.create_index(\n",
    "    connection,\n",
    "    v_store,\n",
    "    params={\n",
    "        \"idx_name\": \"ivf_idx1\",\n",
    "        \"idx_type\": \"IVF\",\n",
    "        \"accuracy\": 90,\n",
    "        \"parallel\": 8,\n",
    "    },\n",
    ")"
   ]
  },
  {
   "cell_type": "code",
   "execution_count": null,
   "id": "1b676dc9-a306-47b8-b722-d23d40e90133",
   "metadata": {},
   "outputs": [],
   "source": [
    "try:\n",
    "    connection = oracledb.connect(user=username, password=password, dsn=dsn)\n",
    "    print(\"Connection successful!\")\n",
    "except Exception as e:\n",
    "    print(e)\n",
    "    print(\"Connection failed!\")\n",
    "\n",
    "# oraclevs.drop_index_if_exists(connection, index_name=\"ivf_idx1\")"
   ]
  },
  {
   "cell_type": "markdown",
   "id": "7333cb53-74db-4928-9d40-9bf046d6a7f6",
   "metadata": {},
   "source": [
    "#### Do a query for test"
   ]
  },
  {
   "cell_type": "code",
   "execution_count": 18,
   "id": "c9553485-4cfa-4da3-89b2-f8431206b3f6",
   "metadata": {
    "tags": []
   },
   "outputs": [
    {
     "name": "stdout",
     "output_type": "stream",
     "text": [
      "Connection successful!\n",
      "Retriever created...\n"
     ]
    }
   ],
   "source": [
    "# k is the number of docs we want to retrieve\n",
    "try:\n",
    "    connection = oracledb.connect(user=username, password=password, dsn=dsn)\n",
    "    print(\"Connection successful!\")\n",
    "\n",
    "    v_store = OracleVS(\n",
    "        client=connection,\n",
    "        table_name=\"ORACLE_KNOWLEDGE\",\n",
    "        distance_strategy=DistanceStrategy.COSINE,\n",
    "        embedding_function=embed_model,\n",
    "    )\n",
    "\n",
    "    retriever = v_store.as_retriever(search_kwargs={\"k\": 6})\n",
    "\n",
    "    print(\"Retriever created...\")\n",
    "\n",
    "except Exception as e:\n",
    "    print(\"Connection failed!\")\n",
    "    print(e)"
   ]
  },
  {
   "cell_type": "code",
   "execution_count": 19,
   "id": "d62e60a8-114f-4377-bcca-aeaa93c2b2bb",
   "metadata": {
    "tags": []
   },
   "outputs": [],
   "source": [
    "question = \"What is Oracle RAC?\"\n",
    "\n",
    "result_docs = retriever.invoke(question)"
   ]
  },
  {
   "cell_type": "code",
   "execution_count": 20,
   "id": "c960e460-3182-4586-9cec-2e83870ffbc0",
   "metadata": {
    "tags": []
   },
   "outputs": [
    {
     "name": "stdout",
     "output_type": "stream",
     "text": [
      "Figure 3-2    Oracle Database with Oracle RAC Architecture\n",
      "Note:\n",
      "After Oracle release 11.2, Oracle RAC One Node or Oracle RAC is the\n",
      "preferred solution over Oracle Clusterware (Cold Cluster Failover) because it\n",
      "is a more complete and feature-rich solution.\n",
      "See Also:\n",
      "Oracle RAC Administration and Deployment Guide\n",
      "Oracle Clusterware Administration and Deployment GuideChapter 3\n",
      "Oracle Real Application Clusters and Oracle Clusterware\n",
      "3-20\n",
      "{'source': './books/high-availability-23c.pdf', 'page': 54}\n",
      "----------------------------\n",
      "\n",
      "Part III\n",
      "Oracle RAC and Clusterware Best Practices\n",
      "•Overview of Oracle RAC and Clusterware Best Practices\n",
      "{'source': './books/high-availability-23c.pdf', 'page': 121}\n",
      "----------------------------\n",
      "\n",
      "11\n",
      "Overview of Oracle RAC and Clusterware\n",
      "Best Practices\n",
      "Oracle Clusterware and Oracle Real Application Clusters (RAC) are Oracle's strategic high\n",
      "availability and resource management database framework in a cluster environment, and an\n",
      "integral part of the Oracle MAA Silver reference architecture.\n",
      "Adding Oracle RAC to a Bronze MAA reference architecture elevates it to a Silver MAA\n",
      "reference architecture. The Silver MAA reference architecture is designed for databases that\n",
      "can’t afford to wait for a cold restart or a restore from backup, should there be an\n",
      "unrecoverable database instance or server failure.\n",
      "The Silver reference architecture has the potential to provide zero downtime for node or\n",
      "instance failures, and zero downtime for most database and system software updates, that\n",
      "are not achievable with the Bronze architecture. To learn more about the Silver MAA\n",
      "reference architecture, see High Availability Reference Architectures .\n",
      "Oracle Clusterware and Oracle RAC provide the following benefits:\n",
      "•High availability framework and cluster management solution\n",
      "–Manages resources, such as Virtual Internet Protocol (VIP) addresses, databases,\n",
      "listeners, and services\n",
      "–Provides HA framework for Oracle database resources and non-Oracle database\n",
      "resources, such as third party agents\n",
      "•Active-active clustering for scalability and availability\n",
      "–High Availability  If a server or database instance fails, connections to surviving\n",
      "{'source': './books/high-availability-23c.pdf', 'page': 122}\n",
      "----------------------------\n",
      "\n",
      "See Also:\n",
      "http://www.gridforum.org/  to learn about the standards organization\n",
      "Global Grid Forum (GGF)\n",
      "Database Server Grid\n",
      "Oracle Real Application Clusters (Oracle RAC) enables multiple instances to share\n",
      "access to an Oracle database. The instances are linked through an interconnect.\n",
      "In an Oracle RAC environment, Oracle Database runs on two or more systems in a\n",
      "cluster while concurrently accessing a single shared database. Oracle RAC enables a\n",
      "Database Server Grid by providing a single database that spans multiple low-cost\n",
      "servers yet appears to the application as a single, unified database system.\n",
      "Oracle Clusterware  is software that enables servers to operate together as if they are\n",
      "one server. Each server looks like any standalone server. However, each server has\n",
      "additional processes that communicate with each other so that separate servers work\n",
      "together as if they were one server. Oracle Clusterware provides all of the features\n",
      "required to run the cluster, including node membership and messaging services.\n",
      "•Scalability\n",
      "In a Database Server Grid, Oracle RAC enables you to add nodes to the cluster as\n",
      "the demand for capacity increases.\n",
      "•Fault Tolerance\n",
      "In a high availability architecture, fault tolerance  is the protection provided against\n",
      "the failure of a component in the architecture.\n",
      "•Services\n",
      "Oracle RAC supports services that can group database workloads and route work\n",
      "to the optimal instances assigned to offer the services.\n",
      "See Also:\n",
      "{'source': './books/database-concepts.pdf', 'page': 615}\n",
      "----------------------------\n",
      "\n",
      "the connection. The application avoids waiting for a TCP timeout and can immediately take\n",
      "the appropriate recovery action. Oracle RAC integrates the listener  with Oracle Clients and\n",
      "the connection pools to create optimal application throughput. Oracle RAC can balance\n",
      "cluster workload based on the load at the time of the transaction.\n",
      "See Also:\n",
      "•\"Database Resident Connection Pooling \"\n",
      "•Oracle Real Application Clusters Administration and Deployment Guide  to learn\n",
      "more about automatic workload management\n",
      "Services\n",
      "Oracle RAC supports services that can group database workloads and route work to the\n",
      "optimal instances assigned to offer the services.\n",
      "A service represents the workload of applications with common attributes, performance\n",
      "thresholds, and priorities. You define and apply business policies to these services to perform\n",
      "tasks such as to allocate nodes for times of peak processing or to automatically handle aChapter 20\n",
      "Overview of Grid Computing\n",
      "20-25\n",
      "{'source': './books/database-concepts.pdf', 'page': 616}\n",
      "----------------------------\n",
      "\n",
      "instances are not affected; connections to the failed instance quickly failover to\n",
      "surviving instances that are already running and open on other servers in the Oracle\n",
      "RAC cluster\n",
      "–Scalability and Performance  Oracle RAC is ideal for high-volume applications or\n",
      "consolidated environments where scalability and the ability to dynamically add or re-\n",
      "prioritize capacity across more than a single server are required. An individual\n",
      "database may have instances running on one or more nodes of a cluster. Similarly, a\n",
      "database service may be available on one or more database instances. Additional\n",
      "nodes, database instances, and database services can be provisioned online. The\n",
      "ability to easily distribute workload across the cluster makes Oracle RAC the ideal\n",
      "complement for Oracle Multitenant when consolidating many databases.\n",
      "The following table highlights various Oracle Clusterware and Real Application Cluster\n",
      "configuration best practices.\n",
      "11-1\n",
      "{'source': './books/high-availability-23c.pdf', 'page': 122}\n",
      "----------------------------\n",
      "\n"
     ]
    }
   ],
   "source": [
    "for doc in result_docs:\n",
    "    print(doc.page_content)\n",
    "    print(doc.metadata)\n",
    "    print(\"----------------------------\")\n",
    "    print(\"\")"
   ]
  },
  {
   "cell_type": "code",
   "execution_count": null,
   "id": "1f105a80-3cc3-4c2c-8676-163f31a98252",
   "metadata": {},
   "outputs": [],
   "source": []
  }
 ],
 "metadata": {
  "kernelspec": {
   "display_name": "Python 3 (ipykernel)",
   "language": "python",
   "name": "python3"
  },
  "language_info": {
   "codemirror_mode": {
    "name": "ipython",
    "version": 3
   },
   "file_extension": ".py",
   "mimetype": "text/x-python",
   "name": "python",
   "nbconvert_exporter": "python",
   "pygments_lexer": "ipython3",
   "version": "3.11.0"
  }
 },
 "nbformat": 4,
 "nbformat_minor": 5
}
